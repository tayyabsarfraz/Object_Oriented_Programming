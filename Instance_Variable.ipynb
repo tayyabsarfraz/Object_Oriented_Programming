{
 "cells": [
  {
   "cell_type": "markdown",
   "id": "658dfd07-2958-4a81-a382-f287bdcfc8a1",
   "metadata": {},
   "source": [
    "### What are Instance Attributes?\n",
    "\n",
    "In Object-Oriented Programming (OOP), instance attributes are variables that belong to a specific object (instance) of a class.\n",
    "\n",
    "- They are unique to each object and are typically defined inside the __init__ method using self.attribute_name.\n",
    "\n",
    "- Changing an instance attribute in one object does not affect the same attribute in another object.\n",
    "\n",
    "- They allow each object to maintain its own state.\n",
    "\n"
   ]
  },
  {
   "cell_type": "code",
   "execution_count": 1,
   "id": "78b280dc-34f3-481b-85c1-df2b4b8c0dd6",
   "metadata": {},
   "outputs": [
    {
     "name": "stdout",
     "output_type": "stream",
     "text": [
      "Alice 5000\n",
      "Bob 3000\n"
     ]
    }
   ],
   "source": [
    "# 1. Bank Account System\n",
    "class BankAccount:\n",
    "    def __init__(self, account_holder, balance):\n",
    "        self.account_holder = account_holder\n",
    "        self.balance = balance\n",
    "\n",
    "acc1 = BankAccount(\"Alice\", 5000)\n",
    "acc2 = BankAccount(\"Bob\", 3000)\n",
    "print(acc1.account_holder, acc1.balance)  # Alice 5000\n",
    "print(acc2.account_holder, acc2.balance)  # Bob 3000"
   ]
  },
  {
   "cell_type": "code",
   "execution_count": 2,
   "id": "eb208453-e58b-4ad8-8a12-a22188aee106",
   "metadata": {},
   "outputs": [],
   "source": [
    "# 2. Student Record Management\n",
    "class Student:\n",
    "    def __init__(self, name, roll_number, grade):\n",
    "        self.name = name\n",
    "        self.roll_number = roll_number\n",
    "        self.grade = grade\n",
    "\n",
    "student1 = Student(\"John\", \"S101\", \"A\")\n",
    "student2 = Student(\"Emma\", \"S102\", \"B\")"
   ]
  },
  {
   "cell_type": "code",
   "execution_count": 3,
   "id": "72dec7ec-1e9f-4c81-9925-59b001a28f02",
   "metadata": {},
   "outputs": [],
   "source": [
    "# 3. E-commerce Product\n",
    "class Product:\n",
    "    def __init__(self, product_name, price, stock):\n",
    "        self.product_name = product_name\n",
    "        self.price = price\n",
    "        self.stock = stock\n",
    "\n",
    "item1 = Product(\"Laptop\", 1200, 10)\n",
    "item2 = Product(\"Phone\", 800, 25)"
   ]
  },
  {
   "cell_type": "code",
   "execution_count": 4,
   "id": "dba7eac0-c7bb-4aa6-bd28-f89f944f9e05",
   "metadata": {},
   "outputs": [],
   "source": [
    "# 4. Employee Payroll System\n",
    "class Employee:\n",
    "    def __init__(self, name, position, salary):\n",
    "        self.name = name\n",
    "        self.position = position\n",
    "        self.salary = salary\n",
    "\n",
    "emp1 = Employee(\"Sarah\", \"Manager\", 75000)\n",
    "emp2 = Employee(\"Mike\", \"Developer\", 60000)"
   ]
  },
  {
   "cell_type": "code",
   "execution_count": 5,
   "id": "4fa011e4-bcaa-4612-9d29-978ba079923f",
   "metadata": {},
   "outputs": [],
   "source": [
    "# 5. Library Book Tracking\n",
    "class Book:\n",
    "    def __init__(self, title, author, available):\n",
    "        self.title = title\n",
    "        self.author = author\n",
    "        self.available = available\n",
    "\n",
    "book1 = Book(\"1984\", \"George Orwell\", True)\n",
    "book2 = Book(\"The Hobbit\", \"J.R.R. Tolkien\", False)\n"
   ]
  },
  {
   "cell_type": "code",
   "execution_count": 6,
   "id": "a5304e82-198f-4d61-ab5f-77a7572e98d9",
   "metadata": {},
   "outputs": [],
   "source": [
    "# 6. Hospital Patient Management\n",
    "class Patient:\n",
    "    def __init__(self, name, age, disease):\n",
    "        self.name = name\n",
    "        self.age = age\n",
    "        self.disease = disease\n",
    "\n",
    "p1 = Patient(\"David\", 45, \"Diabetes\")\n",
    "p2 = Patient(\"Linda\", 30, \"Flu\")\n"
   ]
  },
  {
   "cell_type": "code",
   "execution_count": 7,
   "id": "b88e02bd-6580-48b1-a51a-ac49cc3857ac",
   "metadata": {},
   "outputs": [],
   "source": [
    "# 7. Airline Reservation System\n",
    "class FlightTicket:\n",
    "    def __init__(self, passenger_name, flight_no, seat_no):\n",
    "        self.passenger_name = passenger_name\n",
    "        self.flight_no = flight_no\n",
    "        self.seat_no = seat_no\n",
    "\n",
    "ticket1 = FlightTicket(\"Alex\", \"PK301\", \"12A\")\n",
    "ticket2 = FlightTicket(\"Mia\", \"PK302\", \"14B\")"
   ]
  },
  {
   "cell_type": "code",
   "execution_count": 8,
   "id": "1051a792-9e72-45f0-ab67-0a893d28ef6e",
   "metadata": {},
   "outputs": [],
   "source": [
    "# 8. Car Rental Service\n",
    "class CarRental:\n",
    "    def __init__(self, car_model, rent_per_day, available):\n",
    "        self.car_model = car_model\n",
    "        self.rent_per_day = rent_per_day\n",
    "        self.available = available\n",
    "\n",
    "car1 = CarRental(\"Toyota Corolla\", 50, True)\n",
    "car2 = CarRental(\"Honda Civic\", 70, False)"
   ]
  },
  {
   "cell_type": "code",
   "execution_count": 9,
   "id": "d69e187c-fe13-482d-ad39-c26cfd6da8c2",
   "metadata": {},
   "outputs": [],
   "source": [
    "# 9. Online Course Enrollment\n",
    "class Course:\n",
    "    def __init__(self, course_name, instructor, enrolled_students):\n",
    "        self.course_name = course_name\n",
    "        self.instructor = instructor\n",
    "        self.enrolled_students = enrolled_students\n",
    "\n",
    "course1 = Course(\"Python Programming\", \"Mr. Smith\", 120)\n",
    "course2 = Course(\"Data Science\", \"Ms. Anna\", 95)"
   ]
  },
  {
   "cell_type": "code",
   "execution_count": 10,
   "id": "67dba0f2-b3a2-46bb-ab7f-85f4228431be",
   "metadata": {},
   "outputs": [],
   "source": [
    "# 10. Smart Home Devices\n",
    "class SmartDevice:\n",
    "    def __init__(self, device_name, status, battery_level):\n",
    "        self.device_name = device_name\n",
    "        self.status = status\n",
    "        self.battery_level = battery_level\n",
    "\n",
    "device1 = SmartDevice(\"Smart Light\", \"ON\", 80)\n",
    "device2 = SmartDevice(\"Smart Camera\", \"OFF\", 60)"
   ]
  },
  {
   "cell_type": "markdown",
   "id": "0e86d44c-e515-4644-9836-292d88289bd2",
   "metadata": {},
   "source": [
    "### Key Takeaways\n",
    "\n",
    "Instance attributes store object-specific data.\n",
    "\n",
    "- Each object can have different values for the same attribute.\n",
    "\n",
    "- They are usually initialized in the __init__ method using self.\n",
    "\n",
    "- They make OOP flexible for real-world modeling."
   ]
  },
  {
   "cell_type": "code",
   "execution_count": null,
   "id": "b6e79b96-b697-44af-9a02-e178a461ab21",
   "metadata": {},
   "outputs": [],
   "source": []
  }
 ],
 "metadata": {
  "kernelspec": {
   "display_name": "Python 3 (ipykernel)",
   "language": "python",
   "name": "python3"
  },
  "language_info": {
   "codemirror_mode": {
    "name": "ipython",
    "version": 3
   },
   "file_extension": ".py",
   "mimetype": "text/x-python",
   "name": "python",
   "nbconvert_exporter": "python",
   "pygments_lexer": "ipython3",
   "version": "3.12.3"
  }
 },
 "nbformat": 4,
 "nbformat_minor": 5
}
