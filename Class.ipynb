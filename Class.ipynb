{
 "cells": [
  {
   "cell_type": "markdown",
   "id": "a3d7622e-e9e5-481f-a82b-4a1a42ad6ed5",
   "metadata": {},
   "source": [
    "In **Object-Oriented Programming (OOP)**, a class is like a `blueprint` or `template` used to create objects.\n",
    "It defines the attributes (variables/data) and methods (functions/behaviors) that its objects will have.\n",
    "\n",
    "Think of it as an architectural design — the class is the design plan, and the objects are the actual buildings made from it.\n",
    "\n",
    "**Key Points About Classes:**\n",
    "    \n",
    "- **Encapsulation:** Combines data and methods in one unit.\n",
    "\n",
    "- **Reusability:** Once defined, it can be reused to create multiple objects.\n",
    "\n",
    "- **Customization:** Each object can have its own data while sharing the same structure.\n",
    "\n",
    "- **Abstraction:** Hides complex details and exposes only necessary functionality.\n",
    "\n",
    "### Real-World Examples of Classes\n",
    "\n",
    "| **Class Name**      | **Description**                     | **Example Attributes**                       | **Example Methods**                                    |\n",
    "| ------------------- | ----------------------------------- | -------------------------------------------- | ------------------------------------------------------ |\n",
    "| **Car**             | Represents a vehicle                | brand, model, color, speed                   | start(), stop(), accelerate()                          |\n",
    "| **BankAccount**     | Represents a customer’s account     | account\\_number, balance, account\\_type      | deposit(), withdraw(), check\\_balance()                |\n",
    "| **Student**         | Represents a student in a school    | name, roll\\_no, grades                       | attend\\_class(), submit\\_assignment(), view\\_results() |\n",
    "| **Employee**        | Represents a company employee       | name, emp\\_id, department                    | work(), take\\_leave(), calculate\\_salary()             |\n",
    "| **Book**            | Represents a book in a library      | title, author, ISBN                          | borrow(), return\\_book(), reserve()                    |\n",
    "| **Flight**          | Represents an airline flight        | flight\\_number, destination, departure\\_time | check\\_in(), board(), delay\\_flight()                  |\n",
    "| **ShoppingCart**    | Represents a customer’s online cart | items\\_list, total\\_price                    | add\\_item(), remove\\_item(), checkout()                |\n",
    "| **HospitalPatient** | Represents a patient record         | patient\\_id, name, diagnosis                 | admit(), discharge(), prescribe\\_medicine()            |\n",
    "| **Smartphone**      | Represents a mobile device          | brand, model, battery\\_percentage            | make\\_call(), send\\_message(), install\\_app()          |\n",
    "| **RestaurantOrder** | Represents a food order             | order\\_id, items, table\\_number              | place\\_order(), cancel\\_order(), generate\\_bill()      |\n"
   ]
  },
  {
   "cell_type": "code",
   "execution_count": 1,
   "id": "90c7beb2-3456-4415-b71f-50edd68e5625",
   "metadata": {},
   "outputs": [
    {
     "name": "stdout",
     "output_type": "stream",
     "text": [
      "Toyota Corolla engine started.\n"
     ]
    }
   ],
   "source": [
    "# 1️⃣ Car Class\n",
    "class Car:\n",
    "    def __init__(self, brand, model, year):\n",
    "        self.brand = brand\n",
    "        self.model = model\n",
    "        self.year = year\n",
    "\n",
    "    def start_engine(self):\n",
    "        return f\"{self.brand} {self.model} engine started.\"\n",
    "\n",
    "# Example\n",
    "car1 = Car(\"Toyota\", \"Corolla\", 2020)\n",
    "print(car1.start_engine())"
   ]
  },
  {
   "cell_type": "code",
   "execution_count": 2,
   "id": "e06c6cdc-e2d6-4687-b3ef-b21a1ddd6dc6",
   "metadata": {},
   "outputs": [
    {
     "name": "stdout",
     "output_type": "stream",
     "text": [
      "Deposited 2000. New balance: 7000\n"
     ]
    }
   ],
   "source": [
    "# 2️⃣ Bank Account Class\n",
    "class BankAccount:\n",
    "    def __init__(self, account_holder, balance=0):\n",
    "        self.account_holder = account_holder\n",
    "        self.balance = balance\n",
    "\n",
    "    def deposit(self, amount):\n",
    "        self.balance += amount\n",
    "        return f\"Deposited {amount}. New balance: {self.balance}\"\n",
    "\n",
    "# Example\n",
    "acc1 = BankAccount(\"Ali\", 5000)\n",
    "print(acc1.deposit(2000))"
   ]
  },
  {
   "cell_type": "code",
   "execution_count": 3,
   "id": "bfd23193-224f-4e6c-b449-857a367c566f",
   "metadata": {},
   "outputs": [
    {
     "name": "stdout",
     "output_type": "stream",
     "text": [
      "Student: Tayyab, ID: S123\n"
     ]
    }
   ],
   "source": [
    "# 3️⃣ Student Class\n",
    "class Student:\n",
    "    def __init__(self, name, student_id):\n",
    "        self.name = name\n",
    "        self.student_id = student_id\n",
    "\n",
    "    def display_info(self):\n",
    "        return f\"Student: {self.name}, ID: {self.student_id}\"\n",
    "\n",
    "# Example\n",
    "student1 = Student(\"Tayyab\", \"S123\")\n",
    "print(student1.display_info())"
   ]
  },
  {
   "cell_type": "code",
   "execution_count": 4,
   "id": "2fb67e85-5012-4ae8-908b-1eb29c17158a",
   "metadata": {},
   "outputs": [
    {
     "name": "stdout",
     "output_type": "stream",
     "text": [
      "960000\n"
     ]
    }
   ],
   "source": [
    "# 4️⃣ Employee Class\n",
    "class Employee:\n",
    "    def __init__(self, name, position, salary):\n",
    "        self.name = name\n",
    "        self.position = position\n",
    "        self.salary = salary\n",
    "\n",
    "    def yearly_salary(self):\n",
    "        return self.salary * 12\n",
    "\n",
    "# Example\n",
    "emp1 = Employee(\"Sara\", \"Manager\", 80000)\n",
    "print(emp1.yearly_salary())"
   ]
  },
  {
   "cell_type": "code",
   "execution_count": 5,
   "id": "7e29972e-a790-47ea-8103-77b68b5f36f8",
   "metadata": {},
   "outputs": [
    {
     "name": "stdout",
     "output_type": "stream",
     "text": [
      "Python Basics by John Doe, 350 pages.\n"
     ]
    }
   ],
   "source": [
    "# 5️⃣ Book Class\n",
    "class Book:\n",
    "    def __init__(self, title, author, pages):\n",
    "        self.title = title\n",
    "        self.author = author\n",
    "        self.pages = pages\n",
    "\n",
    "    def book_info(self):\n",
    "        return f\"{self.title} by {self.author}, {self.pages} pages.\"\n",
    "\n",
    "# Example\n",
    "book1 = Book(\"Python Basics\", \"John Doe\", 350)\n",
    "print(book1.book_info())"
   ]
  },
  {
   "cell_type": "code",
   "execution_count": 6,
   "id": "66102b1e-876d-4121-ac5b-21282223afae",
   "metadata": {},
   "outputs": [
    {
     "name": "stdout",
     "output_type": "stream",
     "text": [
      "Burger: $5.99\n"
     ]
    }
   ],
   "source": [
    "# 6️⃣ Restaurant Menu Item Class\n",
    "class MenuItem:\n",
    "    def __init__(self, name, price):\n",
    "        self.name = name\n",
    "        self.price = price\n",
    "\n",
    "    def item_details(self):\n",
    "        return f\"{self.name}: ${self.price}\"\n",
    "\n",
    "# Example\n",
    "item1 = MenuItem(\"Burger\", 5.99)\n",
    "print(item1.item_details())"
   ]
  },
  {
   "cell_type": "code",
   "execution_count": 8,
   "id": "c46b04a7-6d42-49ab-855d-e5883a8b6934",
   "metadata": {},
   "outputs": [
    {
     "name": "stdout",
     "output_type": "stream",
     "text": [
      "Dell Laptop with 8 GBGB RAM and Core i 7 processor.\n"
     ]
    }
   ],
   "source": [
    "# 7️⃣ Laptop Class\n",
    "class Laptop:\n",
    "    def __init__(self, brand, ram, processor):\n",
    "        self.brand = brand\n",
    "        self.ram = ram\n",
    "        self.processor = processor\n",
    "\n",
    "    def laptop_specs(self):\n",
    "        return f\"{self.brand} Laptop with {self.ram}GB RAM and {self.processor} processor.\"\n",
    "my_obj=Laptop(\"Dell\",\"8 GB\",\"Core i 7\")\n",
    "print(my_obj.laptop_specs())"
   ]
  },
  {
   "cell_type": "code",
   "execution_count": 9,
   "id": "28bf1323-e86c-4ad8-83f6-562316b36479",
   "metadata": {},
   "outputs": [
    {
     "name": "stdout",
     "output_type": "stream",
     "text": [
      "Inception is a Sci-Fi movie with a rating of 8.8/10.\n"
     ]
    }
   ],
   "source": [
    "# 8️⃣ Movie Class\n",
    "class Movie:\n",
    "    def __init__(self, title, genre, rating):\n",
    "        self.title = title\n",
    "        self.genre = genre\n",
    "        self.rating = rating\n",
    "\n",
    "    def movie_summary(self):\n",
    "        return f\"{self.title} is a {self.genre} movie with a rating of {self.rating}/10.\"\n",
    "\n",
    "# Example\n",
    "movie1 = Movie(\"Inception\", \"Sci-Fi\", 8.8)\n",
    "print(movie1.movie_summary())"
   ]
  },
  {
   "cell_type": "code",
   "execution_count": 10,
   "id": "2c2ac9cb-9656-416a-9f39-5b678ccc85b5",
   "metadata": {},
   "outputs": [
    {
     "name": "stdout",
     "output_type": "stream",
     "text": [
      "Flight PK-301 heading to Dubai.\n"
     ]
    }
   ],
   "source": [
    "# 9️⃣ Flight Class\n",
    "class Flight:\n",
    "    def __init__(self, flight_no, destination):\n",
    "        self.flight_no = flight_no\n",
    "        self.destination = destination\n",
    "\n",
    "    def flight_info(self):\n",
    "        return f\"Flight {self.flight_no} heading to {self.destination}.\"\n",
    "\n",
    "# Example\n",
    "flight1 = Flight(\"PK-301\", \"Dubai\")\n",
    "print(flight1.flight_info())"
   ]
  },
  {
   "cell_type": "code",
   "execution_count": 11,
   "id": "b9f4f749-5fa4-47cb-873d-1570eb02fa3b",
   "metadata": {},
   "outputs": [
    {
     "name": "stdout",
     "output_type": "stream",
     "text": [
      "Ahmed, Age: 45, Disease: Diabetes\n"
     ]
    }
   ],
   "source": [
    "# 🔟 Hospital Patient Class\n",
    "class Patient:\n",
    "    def __init__(self, name, age, disease):\n",
    "        self.name = name\n",
    "        self.age = age\n",
    "        self.disease = disease\n",
    "\n",
    "    def patient_summary(self):\n",
    "        return f\"{self.name}, Age: {self.age}, Disease: {self.disease}\"\n",
    "\n",
    "# Example\n",
    "patient1 = Patient(\"Ahmed\", 45, \"Diabetes\")\n",
    "print(patient1.patient_summary())"
   ]
  },
  {
   "cell_type": "code",
   "execution_count": null,
   "id": "25c0e49d-8a9f-49d3-b5ad-b8d1096635fa",
   "metadata": {},
   "outputs": [],
   "source": []
  }
 ],
 "metadata": {
  "kernelspec": {
   "display_name": "Python 3 (ipykernel)",
   "language": "python",
   "name": "python3"
  },
  "language_info": {
   "codemirror_mode": {
    "name": "ipython",
    "version": 3
   },
   "file_extension": ".py",
   "mimetype": "text/x-python",
   "name": "python",
   "nbconvert_exporter": "python",
   "pygments_lexer": "ipython3",
   "version": "3.12.3"
  }
 },
 "nbformat": 4,
 "nbformat_minor": 5
}
