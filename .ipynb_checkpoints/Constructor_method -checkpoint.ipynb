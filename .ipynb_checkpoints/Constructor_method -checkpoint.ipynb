{
 "cells": [
  {
   "cell_type": "markdown",
   "id": "4ff60830-4db8-46c8-8d5f-0327964a7943",
   "metadata": {},
   "source": [
    "In Object-Oriented Programming (OOP), a constructor method is a special method used to initialize objects when they are created.\n",
    "\n",
    "In Python\n",
    "\n",
    "- The constructor method is defined using the special method name` __init__()`.\n",
    "\n",
    "- It is automatically called when an object of the class is instantiated."
   ]
  },
  {
   "cell_type": "markdown",
   "id": "d29a6ff6-bda6-487b-ac80-5ec60e8d549b",
   "metadata": {},
   "source": [
    "### Key Points:\n",
    "\n",
    "- Purpose: Set initial values for object attributes.\n",
    "\n",
    "- Name: Always `__init__`.\n",
    "\n",
    "- Parameters:\n",
    "\n",
    "    - The first parameter is always self (refers to the current object).\n",
    "\n",
    "    - Additional parameters are used to initialize attributes.\n",
    "\n",
    "Execution: Runs once when the object is created.\n",
    "\n",
    "```python\n",
    "class ClassName:\n",
    "    def __init__(self, param1, param2):\n",
    "        self.attribute1 = param1\n",
    "        self.attribute2 = param2\n",
    "\n",
    "\n"
   ]
  },
  {
   "cell_type": "markdown",
   "id": "12d78ea0-bcbb-407a-a1a0-57e1974a2a1a",
   "metadata": {},
   "source": [
    "### Basic Constructor"
   ]
  },
  {
   "cell_type": "code",
   "execution_count": 1,
   "id": "d453d388-ab89-4eef-9779-0dce81538dc3",
   "metadata": {},
   "outputs": [
    {
     "name": "stdout",
     "output_type": "stream",
     "text": [
      "Tesla\n",
      "Model S\n"
     ]
    }
   ],
   "source": [
    "class Car:\n",
    "    def __init__(self, brand, model):\n",
    "        self.brand = brand\n",
    "        self.model = model\n",
    "\n",
    "my_car = Car(\"Tesla\", \"Model S\")\n",
    "print(my_car.brand)  # Tesla\n",
    "print(my_car.model)  # Model S\n"
   ]
  },
  {
   "cell_type": "markdown",
   "id": "cb3d4b1f-146d-44be-8cd9-2c6bd7caa73e",
   "metadata": {},
   "source": [
    "### Constructor with Default Values"
   ]
  },
  {
   "cell_type": "code",
   "execution_count": 2,
   "id": "8c602919-1dcd-487c-ad15-cad499fab969",
   "metadata": {},
   "outputs": [
    {
     "name": "stdout",
     "output_type": "stream",
     "text": [
      "Ali Not Assigned\n",
      "Sara A\n"
     ]
    }
   ],
   "source": [
    "class Student:\n",
    "    def __init__(self, name, grade=\"Not Assigned\"):\n",
    "        self.name = name\n",
    "        self.grade = grade\n",
    "\n",
    "s1 = Student(\"Ali\")\n",
    "s2 = Student(\"Sara\", \"A\")\n",
    "\n",
    "print(s1.name, s1.grade)  # Ali Not Assigned\n",
    "print(s2.name, s2.grade)  # Sara A\n"
   ]
  },
  {
   "cell_type": "markdown",
   "id": "2294808e-c7ac-4aac-b06b-6674c9d03cc3",
   "metadata": {},
   "source": [
    "### Real-World Advanced Example – Bank Account"
   ]
  },
  {
   "cell_type": "code",
   "execution_count": 3,
   "id": "96089e11-acba-49b2-950c-1af6e1ee6210",
   "metadata": {},
   "outputs": [
    {
     "name": "stdout",
     "output_type": "stream",
     "text": [
      "Deposited 2000, New Balance: 7000\n",
      "Withdrew 1500, Remaining Balance: 5500\n"
     ]
    }
   ],
   "source": [
    "class BankAccount:\n",
    "    def __init__(self, account_holder, balance=0):\n",
    "        self.account_holder = account_holder\n",
    "        self.balance = balance\n",
    "\n",
    "    def deposit(self, amount):\n",
    "        self.balance += amount\n",
    "        print(f\"Deposited {amount}, New Balance: {self.balance}\")\n",
    "\n",
    "    def withdraw(self, amount):\n",
    "        if amount <= self.balance:\n",
    "            self.balance -= amount\n",
    "            print(f\"Withdrew {amount}, Remaining Balance: {self.balance}\")\n",
    "        else:\n",
    "            print(\"Insufficient balance!\")\n",
    "\n",
    "account = BankAccount(\"Tayyab\", 5000)\n",
    "account.deposit(2000)\n",
    "account.withdraw(1500)\n"
   ]
  },
  {
   "cell_type": "code",
   "execution_count": null,
   "id": "d954dd4b-382e-48bc-9f98-1615330fa327",
   "metadata": {},
   "outputs": [],
   "source": []
  }
 ],
 "metadata": {
  "kernelspec": {
   "display_name": "Python 3 (ipykernel)",
   "language": "python",
   "name": "python3"
  },
  "language_info": {
   "codemirror_mode": {
    "name": "ipython",
    "version": 3
   },
   "file_extension": ".py",
   "mimetype": "text/x-python",
   "name": "python",
   "nbconvert_exporter": "python",
   "pygments_lexer": "ipython3",
   "version": "3.12.3"
  }
 },
 "nbformat": 4,
 "nbformat_minor": 5
}
