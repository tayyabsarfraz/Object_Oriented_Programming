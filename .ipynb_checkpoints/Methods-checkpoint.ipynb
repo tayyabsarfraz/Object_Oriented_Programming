{
 "cells": [
  {
   "cell_type": "markdown",
   "id": "533c160b-dde7-48f0-8eae-150073e66d5a",
   "metadata": {},
   "source": [
    "### What are Methods in Python OOP?\n",
    "\n",
    "In Object-Oriented Programming (OOP), methods are functions defined inside a class that operate on instances (objects) of that class.\n",
    "    \n",
    "They usually take self as their first parameter, which refers to the current object.\n",
    "\n",
    "\n",
    "### 🧠 Key Points\n",
    "\n",
    "- self → Refers to the object calling the method.\n",
    "\n",
    "- Methods can modify attributes or perform actions.\n",
    "\n",
    "- You call methods using:\n",
    "\n",
    "```python\n",
    "class ClassName:\n",
    "    def method_name(self, parameters):\n",
    "        # method body\n",
    "        return something\n",
    "object.method_name(arguments)\n"
   ]
  },
  {
   "cell_type": "markdown",
   "id": "82f83de4-975a-4f21-b4d4-5315fdbd9a08",
   "metadata": {},
   "source": [
    "### 1. Bank Account – Deposit & Withdraw"
   ]
  },
  {
   "cell_type": "code",
   "execution_count": 1,
   "id": "a8080b1a-5bc6-4615-bdd5-9a3c9cd0189d",
   "metadata": {},
   "outputs": [
    {
     "name": "stdout",
     "output_type": "stream",
     "text": [
      "500 deposited. New balance: 1500\n",
      "200 withdrawn. New balance: 1300\n"
     ]
    }
   ],
   "source": [
    "class BankAccount:\n",
    "    def __init__(self, owner, balance=0):\n",
    "        self.owner = owner\n",
    "        self.balance = balance\n",
    "    \n",
    "    def deposit(self, amount):\n",
    "        self.balance += amount\n",
    "        return f\"{amount} deposited. New balance: {self.balance}\"\n",
    "    \n",
    "    def withdraw(self, amount):\n",
    "        if amount <= self.balance:\n",
    "            self.balance -= amount\n",
    "            return f\"{amount} withdrawn. New balance: {self.balance}\"\n",
    "        return \"Insufficient funds!\"\n",
    "\n",
    "# Usage\n",
    "acc = BankAccount(\"Ali\", 1000)\n",
    "print(acc.deposit(500))\n",
    "print(acc.withdraw(200))\n"
   ]
  },
  {
   "cell_type": "markdown",
   "id": "f027e648-01e6-40a5-bb17-7c3405b6df23",
   "metadata": {},
   "source": [
    "### 2. E-commerce Cart – Add Item"
   ]
  },
  {
   "cell_type": "code",
   "execution_count": 2,
   "id": "d866e5dd-feba-4b1e-a68a-2c41819b7e85",
   "metadata": {},
   "outputs": [
    {
     "name": "stdout",
     "output_type": "stream",
     "text": [
      "Laptop added to cart.\n"
     ]
    }
   ],
   "source": [
    "class ShoppingCart:\n",
    "    def __init__(self):\n",
    "        self.items = []\n",
    "    \n",
    "    def add_item(self, product):\n",
    "        self.items.append(product)\n",
    "        return f\"{product} added to cart.\"\n",
    "\n",
    "cart = ShoppingCart()\n",
    "print(cart.add_item(\"Laptop\"))\n"
   ]
  },
  {
   "cell_type": "markdown",
   "id": "c94d8d80-d712-49f3-bb1f-c1a02cc26794",
   "metadata": {},
   "source": [
    "### 3. Student – Calculate GPA"
   ]
  },
  {
   "cell_type": "code",
   "execution_count": 3,
   "id": "656dff11-978c-43bb-ab17-8fd0f0570c5a",
   "metadata": {},
   "outputs": [
    {
     "name": "stdout",
     "output_type": "stream",
     "text": [
      "3.65\n"
     ]
    }
   ],
   "source": [
    "class Student:\n",
    "    def __init__(self, name):\n",
    "        self.name = name\n",
    "        self.grades = []\n",
    "    \n",
    "    def add_grade(self, grade):\n",
    "        self.grades.append(grade)\n",
    "    \n",
    "    def calculate_gpa(self):\n",
    "        return round(sum(self.grades) / len(self.grades), 2) if self.grades else 0\n",
    "\n",
    "s = Student(\"Sara\")\n",
    "s.add_grade(3.5)\n",
    "s.add_grade(3.8)\n",
    "print(s.calculate_gpa())\n"
   ]
  },
  {
   "cell_type": "markdown",
   "id": "62a10523-783d-4717-aac5-ec9698c342bb",
   "metadata": {},
   "source": [
    "### 4. Employee – Annual Salary"
   ]
  },
  {
   "cell_type": "code",
   "execution_count": 4,
   "id": "5e342fe6-9aee-40c9-9958-a25c1e2b1b4c",
   "metadata": {},
   "outputs": [
    {
     "name": "stdout",
     "output_type": "stream",
     "text": [
      "60000\n"
     ]
    }
   ],
   "source": [
    "class Employee:\n",
    "    def __init__(self, name, monthly_salary):\n",
    "        self.name = name\n",
    "        self.monthly_salary = monthly_salary\n",
    "    \n",
    "    def annual_salary(self):\n",
    "        return self.monthly_salary * 12\n",
    "\n",
    "emp = Employee(\"Usman\", 5000)\n",
    "print(emp.annual_salary())\n"
   ]
  },
  {
   "cell_type": "markdown",
   "id": "77e45ec6-15b5-4b96-b612-cc83b4b6dc47",
   "metadata": {},
   "source": [
    "### 5. Library – Borrow Book"
   ]
  },
  {
   "cell_type": "code",
   "execution_count": 5,
   "id": "2ad08053-8a9c-472a-a77e-2f0c711206cf",
   "metadata": {},
   "outputs": [
    {
     "name": "stdout",
     "output_type": "stream",
     "text": [
      "You borrowed Python 101\n"
     ]
    }
   ],
   "source": [
    "class Library:\n",
    "    def __init__(self, books):\n",
    "        self.books = books\n",
    "    \n",
    "    def borrow_book(self, book_name):\n",
    "        if book_name in self.books:\n",
    "            self.books.remove(book_name)\n",
    "            return f\"You borrowed {book_name}\"\n",
    "        return \"Book not available.\"\n",
    "\n",
    "lib = Library([\"Python 101\", \"OOP in Depth\"])\n",
    "print(lib.borrow_book(\"Python 101\"))\n"
   ]
  },
  {
   "cell_type": "markdown",
   "id": "7a8eec3e-43fe-4033-9801-a087a990eaa1",
   "metadata": {},
   "source": [
    "### 6. Vehicle – Travel Distance"
   ]
  },
  {
   "cell_type": "code",
   "execution_count": 6,
   "id": "aec0ff94-2964-44e1-a764-e6efadcd83c4",
   "metadata": {},
   "outputs": [
    {
     "name": "stdout",
     "output_type": "stream",
     "text": [
      "150\n"
     ]
    }
   ],
   "source": [
    "class Vehicle:\n",
    "    def __init__(self, fuel_efficiency):\n",
    "        self.fuel_efficiency = fuel_efficiency  # km per liter\n",
    "    \n",
    "    def travel_distance(self, fuel):\n",
    "        return self.fuel_efficiency * fuel\n",
    "\n",
    "car = Vehicle(15)\n",
    "print(car.travel_distance(10))\n"
   ]
  },
  {
   "cell_type": "markdown",
   "id": "173b264f-9091-47f4-8438-cd34435766fe",
   "metadata": {},
   "source": [
    "### 7. Hotel Room – Check Availability"
   ]
  },
  {
   "cell_type": "code",
   "execution_count": 7,
   "id": "58ff1524-9b70-4428-9625-4fc2a4d751ca",
   "metadata": {},
   "outputs": [
    {
     "name": "stdout",
     "output_type": "stream",
     "text": [
      "Room 101 booked.\n"
     ]
    }
   ],
   "source": [
    "class HotelRoom:\n",
    "    def __init__(self, room_number):\n",
    "        self.room_number = room_number\n",
    "        self.is_booked = False\n",
    "    \n",
    "    def book_room(self):\n",
    "        if not self.is_booked:\n",
    "            self.is_booked = True\n",
    "            return f\"Room {self.room_number} booked.\"\n",
    "        return \"Room already booked.\"\n",
    "\n",
    "room = HotelRoom(101)\n",
    "print(room.book_room())\n"
   ]
  },
  {
   "cell_type": "markdown",
   "id": "c76b14aa-0ab9-462d-9567-11ec18482763",
   "metadata": {},
   "source": [
    "### 8. ATM Machine – PIN Verification"
   ]
  },
  {
   "cell_type": "code",
   "execution_count": 8,
   "id": "a1db90f8-7db4-44c6-8b5f-1ce86364ffeb",
   "metadata": {},
   "outputs": [
    {
     "name": "stdout",
     "output_type": "stream",
     "text": [
      "Access Granted\n"
     ]
    }
   ],
   "source": [
    "class ATM:\n",
    "    def __init__(self, pin):\n",
    "        self.pin = pin\n",
    "    \n",
    "    def verify_pin(self, entered_pin):\n",
    "        return \"Access Granted\" if entered_pin == self.pin else \"Access Denied\"\n",
    "\n",
    "atm = ATM(1234)\n",
    "print(atm.verify_pin(1234))\n"
   ]
  },
  {
   "cell_type": "markdown",
   "id": "ce6e0c20-b5ee-4a43-9119-aad104301eb8",
   "metadata": {},
   "source": [
    "### 9. Fitness Tracker – Add Steps"
   ]
  },
  {
   "cell_type": "code",
   "execution_count": 9,
   "id": "75a0c0b8-deb2-4d76-8f2f-ed2c7a0809d0",
   "metadata": {},
   "outputs": [
    {
     "name": "stdout",
     "output_type": "stream",
     "text": [
      "Total steps: 5000\n"
     ]
    }
   ],
   "source": [
    "class FitnessTracker:\n",
    "    def __init__(self):\n",
    "        self.steps = 0\n",
    "    \n",
    "    def add_steps(self, steps):\n",
    "        self.steps += steps\n",
    "        return f\"Total steps: {self.steps}\"\n",
    "\n",
    "tracker = FitnessTracker()\n",
    "print(tracker.add_steps(5000))\n"
   ]
  },
  {
   "cell_type": "markdown",
   "id": "a7dfcd77-8af7-41b8-927c-63154b745672",
   "metadata": {},
   "source": [
    "### 10. Music Player – Play Song"
   ]
  },
  {
   "cell_type": "code",
   "execution_count": 10,
   "id": "adee74aa-c505-4f66-8649-48ae1306bdcd",
   "metadata": {},
   "outputs": [
    {
     "name": "stdout",
     "output_type": "stream",
     "text": [
      "Playing Shape of You\n"
     ]
    }
   ],
   "source": [
    "class MusicPlayer:\n",
    "    def __init__(self):\n",
    "        self.current_song = None\n",
    "    \n",
    "    def play_song(self, song):\n",
    "        self.current_song = song\n",
    "        return f\"Playing {song}\"\n",
    "\n",
    "player = MusicPlayer()\n",
    "print(player.play_song(\"Shape of You\"))\n"
   ]
  },
  {
   "cell_type": "code",
   "execution_count": null,
   "id": "af3fead5-3b3b-46fc-872f-84160c05a4e9",
   "metadata": {},
   "outputs": [],
   "source": []
  }
 ],
 "metadata": {
  "kernelspec": {
   "display_name": "Python 3 (ipykernel)",
   "language": "python",
   "name": "python3"
  },
  "language_info": {
   "codemirror_mode": {
    "name": "ipython",
    "version": 3
   },
   "file_extension": ".py",
   "mimetype": "text/x-python",
   "name": "python",
   "nbconvert_exporter": "python",
   "pygments_lexer": "ipython3",
   "version": "3.12.3"
  }
 },
 "nbformat": 4,
 "nbformat_minor": 5
}
