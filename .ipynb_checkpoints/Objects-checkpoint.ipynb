{
 "cells": [
  {
   "cell_type": "markdown",
   "id": "f59dc533-9a72-4845-8e4a-972bddb769b9",
   "metadata": {},
   "source": [
    "An object is an instance of a class that contains data (attributes) and methods (functions) to operate on that data.\n",
    "\n",
    "Objects bring the idea of modularity, reusability, and real-world mapping into programming.\n",
    "They can represent anything — from a real-world entity like a car or bank account to an abstract concept like a machine learning model or database connection.\n",
    "\n"
   ]
  },
  {
   "cell_type": "code",
   "execution_count": 1,
   "id": "b35fce07-f965-4576-9f90-117f152e991b",
   "metadata": {},
   "outputs": [
    {
     "name": "stdout",
     "output_type": "stream",
     "text": [
      "Tesla Model X drove 50 km. Battery: 75.0%\n"
     ]
    }
   ],
   "source": [
    "# 1. AutonomousCar Object\n",
    "class AutonomousCar:\n",
    "    def __init__(self, model, battery_level):\n",
    "        self.model = model\n",
    "        self.battery_level = battery_level\n",
    "\n",
    "    def drive(self, distance):\n",
    "        self.battery_level -= distance * 0.5\n",
    "        print(f\"{self.model} drove {distance} km. Battery: {self.battery_level}%\")\n",
    "\n",
    "car = AutonomousCar(\"Tesla Model X\", 100)\n",
    "car.drive(50)"
   ]
  },
  {
   "cell_type": "code",
   "execution_count": 2,
   "id": "1919080a-d013-428e-862f-62a5b8f93aaa",
   "metadata": {},
   "outputs": [
    {
     "name": "stdout",
     "output_type": "stream",
     "text": [
      "MedAssist [English] → Replying to: What are the symptoms of flu?\n"
     ]
    }
   ],
   "source": [
    "# 2. AIChatbot Object\n",
    "class AIChatbot:\n",
    "    def __init__(self, name, language):\n",
    "        self.name = name\n",
    "        self.language = language\n",
    "\n",
    "    def reply(self, message):\n",
    "        print(f\"{self.name} [{self.language}] → Replying to: {message}\")\n",
    "\n",
    "bot = AIChatbot(\"MedAssist\", \"English\")\n",
    "bot.reply(\"What are the symptoms of flu?\")\n"
   ]
  },
  {
   "cell_type": "code",
   "execution_count": 3,
   "id": "bd08f326-7e63-4585-ab9a-082d7293065d",
   "metadata": {},
   "outputs": [
    {
     "name": "stdout",
     "output_type": "stream",
     "text": [
      "Added 10 shares of AAPL\n"
     ]
    }
   ],
   "source": [
    "# 3. StockPortfolio Object\n",
    "class StockPortfolio:\n",
    "    def __init__(self):\n",
    "        self.stocks = {}\n",
    "\n",
    "    def add_stock(self, ticker, shares):\n",
    "        self.stocks[ticker] = self.stocks.get(ticker, 0) + shares\n",
    "        print(f\"Added {shares} shares of {ticker}\")\n",
    "\n",
    "portfolio = StockPortfolio()\n",
    "portfolio.add_stock(\"AAPL\", 10)"
   ]
  },
  {
   "cell_type": "code",
   "execution_count": 4,
   "id": "a94f32a8-24d9-427c-95e8-13902fdb2b1d",
   "metadata": {},
   "outputs": [
    {
     "name": "stdout",
     "output_type": "stream",
     "text": [
      "Deposited $1500. Balance: $6500\n"
     ]
    }
   ],
   "source": [
    "# 4. BankAccount Object\n",
    "class BankAccount:\n",
    "    def __init__(self, account_number, balance):\n",
    "        self.account_number = account_number\n",
    "        self.balance = balance\n",
    "\n",
    "    def deposit(self, amount):\n",
    "        self.balance += amount\n",
    "        print(f\"Deposited ${amount}. Balance: ${self.balance}\")\n",
    "\n",
    "account = BankAccount(\"123456\", 5000)\n",
    "account.deposit(1500)"
   ]
  },
  {
   "cell_type": "code",
   "execution_count": 5,
   "id": "62f71c26-613e-47cb-af2b-77628a1c1417",
   "metadata": {},
   "outputs": [
    {
     "name": "stdout",
     "output_type": "stream",
     "text": [
      "Drone DJI-Alpha flying at 120 meters\n"
     ]
    }
   ],
   "source": [
    "# 5. Drone Object\n",
    "class Drone:\n",
    "    def __init__(self, id, altitude=0):\n",
    "        self.id = id\n",
    "        self.altitude = altitude\n",
    "\n",
    "    def fly(self, meters):\n",
    "        self.altitude += meters\n",
    "        print(f\"Drone {self.id} flying at {self.altitude} meters\")\n",
    "\n",
    "drone = Drone(\"DJI-Alpha\")\n",
    "drone.fly(120)"
   ]
  },
  {
   "cell_type": "code",
   "execution_count": 6,
   "id": "751f8237-376d-4055-bfb2-a118873af8df",
   "metadata": {},
   "outputs": [
    {
     "name": "stdout",
     "output_type": "stream",
     "text": [
      "RandomForest model trained.\n"
     ]
    }
   ],
   "source": [
    "\n",
    "# 6. MachineLearningModel Object\n",
    "class MachineLearningModel:\n",
    "    def __init__(self, model_name):\n",
    "        self.model_name = model_name\n",
    "        self.trained = False\n",
    "\n",
    "    def train(self):\n",
    "        self.trained = True\n",
    "        print(f\"{self.model_name} model trained.\")\n",
    "\n",
    "model = MachineLearningModel(\"RandomForest\")\n",
    "model.train()"
   ]
  },
  {
   "cell_type": "code",
   "execution_count": 7,
   "id": "47407c74-a8bf-4375-9851-4021ee4b484f",
   "metadata": {},
   "outputs": [
    {
     "name": "stdout",
     "output_type": "stream",
     "text": [
      "Living Room Light is now on\n"
     ]
    }
   ],
   "source": [
    "# 7. SmartHomeDevice Object\n",
    "class SmartHomeDevice:\n",
    "    def __init__(self, name, status=\"off\"):\n",
    "        self.name = name\n",
    "        self.status = status\n",
    "\n",
    "    def toggle(self):\n",
    "        self.status = \"on\" if self.status == \"off\" else \"off\"\n",
    "        print(f\"{self.name} is now {self.status}\")\n",
    "\n",
    "light = SmartHomeDevice(\"Living Room Light\")\n",
    "light.toggle()"
   ]
  },
  {
   "cell_type": "code",
   "execution_count": 8,
   "id": "f8c2be2b-cc1d-4de0-b5ac-4c944e0c264e",
   "metadata": {},
   "outputs": [
    {
     "name": "stdout",
     "output_type": "stream",
     "text": [
      "Order ORD-009 contains: Laptop, Mouse, Keyboard\n"
     ]
    }
   ],
   "source": [
    "\n",
    "# 8. OnlineOrder Object\n",
    "class OnlineOrder:\n",
    "    def __init__(self, order_id, items):\n",
    "        self.order_id = order_id\n",
    "        self.items = items\n",
    "\n",
    "    def display_order(self):\n",
    "        print(f\"Order {self.order_id} contains: {', '.join(self.items)}\")\n",
    "\n",
    "order = OnlineOrder(\"ORD-009\", [\"Laptop\", \"Mouse\", \"Keyboard\"])\n",
    "order.display_order()"
   ]
  },
  {
   "cell_type": "code",
   "execution_count": 9,
   "id": "0ac1f770-a4e8-4807-b3c7-0e0bf912ab59",
   "metadata": {},
   "outputs": [
    {
     "name": "stdout",
     "output_type": "stream",
     "text": [
      "Mission Artemis-II launched towards Moon\n"
     ]
    }
   ],
   "source": [
    "# 9. SpaceMission Object\n",
    "class SpaceMission:\n",
    "    def __init__(self, mission_name, destination):\n",
    "        self.mission_name = mission_name\n",
    "        self.destination = destination\n",
    "\n",
    "    def launch(self):\n",
    "        print(f\"Mission {self.mission_name} launched towards {self.destination}\")\n",
    "\n",
    "mission = SpaceMission(\"Artemis-II\", \"Moon\")\n",
    "mission.launch()"
   ]
  },
  {
   "cell_type": "code",
   "execution_count": 10,
   "id": "3c30471c-6f2e-4aa1-b699-629ed933e2e7",
   "metadata": {},
   "outputs": [
    {
     "name": "stdout",
     "output_type": "stream",
     "text": [
      "ThreatDefender-X scanning for threats... No issues found.\n"
     ]
    }
   ],
   "source": [
    "# 10. CyberSecuritySystem Object\n",
    "class CyberSecuritySystem:\n",
    "    def __init__(self, system_name):\n",
    "        self.system_name = system_name\n",
    "\n",
    "    def scan(self):\n",
    "        print(f\"{self.system_name} scanning for threats... No issues found.\")\n",
    "\n",
    "security = CyberSecuritySystem(\"ThreatDefender-X\")\n",
    "security.scan()"
   ]
  },
  {
   "cell_type": "markdown",
   "id": "d402a322-3d92-406d-bca5-3d0788f7954c",
   "metadata": {},
   "source": [
    "### Key Takeaways\n",
    "\n",
    "- Objects = Real-world entities in code.\n",
    "\n",
    "- Each object is based on a class (its blueprint).\n",
    "\n",
    "- Attributes store data, methods define behavior.\n",
    "\n",
    "- Advanced examples can be used in AI, IoT, Finance, Space Tech, and Cybersecurity.\n",
    "\n"
   ]
  },
  {
   "cell_type": "code",
   "execution_count": null,
   "id": "844cd79d-2b10-44b6-ad47-24ecf992c13a",
   "metadata": {},
   "outputs": [],
   "source": []
  }
 ],
 "metadata": {
  "kernelspec": {
   "display_name": "Python 3 (ipykernel)",
   "language": "python",
   "name": "python3"
  },
  "language_info": {
   "codemirror_mode": {
    "name": "ipython",
    "version": 3
   },
   "file_extension": ".py",
   "mimetype": "text/x-python",
   "name": "python",
   "nbconvert_exporter": "python",
   "pygments_lexer": "ipython3",
   "version": "3.12.3"
  }
 },
 "nbformat": 4,
 "nbformat_minor": 5
}
