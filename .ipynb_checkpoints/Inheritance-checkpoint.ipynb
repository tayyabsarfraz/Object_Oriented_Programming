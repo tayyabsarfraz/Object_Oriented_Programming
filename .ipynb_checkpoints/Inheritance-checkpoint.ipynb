{
 "cells": [
  {
   "cell_type": "markdown",
   "id": "f02e42e4-fa52-49e6-81eb-359e86afebc0",
   "metadata": {},
   "source": [
    "### Inheritance in Python\n",
    "\n",
    "**Definition:**\n",
    "  \n",
    "Inheritance is an OOP concept where a class (child / derived class) can acquire attributes and methods from another class (parent / base class).\n",
    "It promotes code reusability, extensibility, and better organization.\n",
    "\n",
    "**Types of Inheritance:**\n",
    "    \n",
    "- **Single Inheritance** – One child class inherits from one parent class.\n",
    "\n",
    "- **Multiple Inheritance** – Child inherits from multiple parents.\n",
    "\n",
    "- **Multilevel Inheritance** – Child inherits from a parent, which inherits from another parent.\n",
    "\n",
    "- **Hierarchical Inheritance** – Multiple child classes inherit from the same parent.\n",
    "\n",
    "- **Hybrid Inheritance** – Combination of multiple types.\n",
    "\n",
    "```python\n",
    "class Parent:\n",
    "    def parent_method(self):\n",
    "        print(\"This is the parent method.\")\n",
    "\n",
    "class Child(Parent):\n",
    "    def child_method(self):\n",
    "        print(\"This is the child method.\")\n",
    "\n",
    "# Usage\n",
    "obj = Child()\n",
    "obj.parent_method()\n",
    "obj.child_method()\n"
   ]
  },
  {
   "cell_type": "markdown",
   "id": "1b3ae68e-4f25-4d45-82f3-30b2eeee38c4",
   "metadata": {},
   "source": [
    "### Vehicle → Car"
   ]
  },
  {
   "cell_type": "code",
   "execution_count": 1,
   "id": "431c30fc-c545-41b2-9dc4-ea91edb60ef8",
   "metadata": {},
   "outputs": [
    {
     "name": "stdout",
     "output_type": "stream",
     "text": [
      "Tesla is starting...\n",
      "Tesla Model S is driving.\n"
     ]
    }
   ],
   "source": [
    "class Vehicle:\n",
    "    def __init__(self, brand):\n",
    "        self.brand = brand\n",
    "    \n",
    "    def start(self):\n",
    "        return f\"{self.brand} is starting...\"\n",
    "\n",
    "class Car(Vehicle):\n",
    "    def __init__(self, brand, model):\n",
    "        super().__init__(brand)\n",
    "        self.model = model\n",
    "    \n",
    "    def drive(self):\n",
    "        return f\"{self.brand} {self.model} is driving.\"\n",
    "\n",
    "car = Car(\"Tesla\", \"Model S\")\n",
    "print(car.start())\n",
    "print(car.drive())\n"
   ]
  },
  {
   "cell_type": "markdown",
   "id": "39194f93-e09e-4f69-a481-e4124debda8b",
   "metadata": {},
   "source": [
    "### Employee → Manager"
   ]
  },
  {
   "cell_type": "code",
   "execution_count": 2,
   "id": "86d99187-3124-4797-b8cd-a5036fcb73cb",
   "metadata": {},
   "outputs": [
    {
     "name": "stdout",
     "output_type": "stream",
     "text": [
      "Alice is working.\n",
      "Alice manages the IT department.\n"
     ]
    }
   ],
   "source": [
    "class Employee:\n",
    "    def __init__(self, name, salary):\n",
    "        self.name = name\n",
    "        self.salary = salary\n",
    "    \n",
    "    def work(self):\n",
    "        return f\"{self.name} is working.\"\n",
    "\n",
    "class Manager(Employee):\n",
    "    def __init__(self, name, salary, department):\n",
    "        super().__init__(name, salary)\n",
    "        self.department = department\n",
    "    \n",
    "    def manage(self):\n",
    "        return f\"{self.name} manages the {self.department} department.\"\n",
    "\n",
    "mgr = Manager(\"Alice\", 90000, \"IT\")\n",
    "print(mgr.work())\n",
    "print(mgr.manage())\n"
   ]
  },
  {
   "cell_type": "markdown",
   "id": "a575d2ef-cafb-4e31-860c-80aee7ae05c0",
   "metadata": {},
   "source": [
    "### BankAccount → SavingsAccount"
   ]
  },
  {
   "cell_type": "code",
   "execution_count": 3,
   "id": "6f81d8a9-7ad4-4c5e-a76a-4db121176dc2",
   "metadata": {},
   "outputs": [
    {
     "name": "stdout",
     "output_type": "stream",
     "text": [
      "1500\n",
      "1575.0\n"
     ]
    }
   ],
   "source": [
    "class BankAccount:\n",
    "    def __init__(self, balance):\n",
    "        self.balance = balance\n",
    "    \n",
    "    def deposit(self, amount):\n",
    "        self.balance += amount\n",
    "        return self.balance\n",
    "\n",
    "class SavingsAccount(BankAccount):\n",
    "    def add_interest(self, rate):\n",
    "        self.balance += self.balance * rate\n",
    "        return self.balance\n",
    "\n",
    "acc = SavingsAccount(1000)\n",
    "print(acc.deposit(500))\n",
    "print(acc.add_interest(0.05))\n"
   ]
  },
  {
   "cell_type": "markdown",
   "id": "9fa1bea8-e39d-4f16-89a9-367b85d12dd7",
   "metadata": {},
   "source": [
    "### Single Inheritance\n",
    "\n",
    "**Definition:**\n",
    "  \n",
    "Single Inheritance is when a child class (also called subclass or derived class) inherits the properties and methods from only one parent class (also called base class or superclass).\n",
    "\n",
    "This allows code reuse and extension of parent class functionality in a straightforward hierarchy.\n",
    "\n",
    "**Advantages:**\n",
    "    \n",
    "- Code Reusability – No need to rewrite common code in child classes.\n",
    "\n",
    "- Maintainability – Parent class changes automatically reflect in child class.\n",
    "\n",
    "- Clarity – Simple and easy-to-read hierarchy."
   ]
  },
  {
   "cell_type": "code",
   "execution_count": 4,
   "id": "69d95622-29f1-4667-b890-e6fe68e8008d",
   "metadata": {},
   "outputs": [
    {
     "name": "stdout",
     "output_type": "stream",
     "text": [
      "Tesla Model S is starting...\n",
      "Tesla Model S is stopping...\n",
      "Tesla Model S is charging with 100 kWh battery.\n"
     ]
    }
   ],
   "source": [
    "# Parent Class\n",
    "class Car:\n",
    "    def __init__(self, brand, model):\n",
    "        self.brand = brand\n",
    "        self.model = model\n",
    "    \n",
    "    def start(self):\n",
    "        return f\"{self.brand} {self.model} is starting...\"\n",
    "    \n",
    "    def stop(self):\n",
    "        return f\"{self.brand} {self.model} is stopping...\"\n",
    "\n",
    "# Child Class (Single Inheritance)\n",
    "class ElectricCar(Car):\n",
    "    def __init__(self, brand, model, battery_capacity):\n",
    "        super().__init__(brand, model)  # Call parent constructor\n",
    "        self.battery_capacity = battery_capacity\n",
    "    \n",
    "    def charge(self):\n",
    "        return f\"{self.brand} {self.model} is charging with {self.battery_capacity} kWh battery.\"\n",
    "\n",
    "# Creating object of child class\n",
    "tesla = ElectricCar(\"Tesla\", \"Model S\", 100)\n",
    "\n",
    "# Using parent class methods\n",
    "print(tesla.start())  \n",
    "print(tesla.stop())   \n",
    "\n",
    "# Using child class method\n",
    "print(tesla.charge())\n"
   ]
  },
  {
   "cell_type": "markdown",
   "id": "c70961cd-88c2-4d92-b4a4-3a22afefa168",
   "metadata": {},
   "source": [
    "### Multiple Inheritance in Python\n",
    "\n",
    "**Definition:**\n",
    "  \n",
    "Multiple Inheritance is when a child class inherits from two or more parent classes.\n",
    "    \n",
    "This means the subclass has access to the attributes and methods of all parent classes.\n",
    "\n",
    "**Advantages:**\n",
    "\n",
    "- Code Reusability – You can combine features from multiple classes.\n",
    "\n",
    "- Flexibility – Useful when an object logically needs characteristics of multiple types.\n",
    "\n",
    "- Modular Design – Functionality can be split into smaller, reusable classes"
   ]
  },
  {
   "cell_type": "code",
   "execution_count": 5,
   "id": "2db0daf1-909d-4c0d-b0a8-2c76537c56d1",
   "metadata": {},
   "outputs": [
    {
     "name": "stdout",
     "output_type": "stream",
     "text": [
      "Making a phone call...\n",
      "Taking a photo...\n",
      "Browsing the internet...\n"
     ]
    }
   ],
   "source": [
    "# Parent Class 1\n",
    "class Phone:\n",
    "    def call(self):\n",
    "        return \"Making a phone call...\"\n",
    "\n",
    "# Parent Class 2\n",
    "class Camera:\n",
    "    def take_photo(self):\n",
    "        return \"Taking a photo...\"\n",
    "\n",
    "# Child Class (Multiple Inheritance)\n",
    "class Smartphone(Phone, Camera):\n",
    "    def browse(self):\n",
    "        return \"Browsing the internet...\"\n",
    "\n",
    "# Creating object of child class\n",
    "samsung = Smartphone()\n",
    "\n",
    "# Using methods from both parents and child\n",
    "print(samsung.call())       # From Phone\n",
    "print(samsung.take_photo()) # From Camera\n",
    "print(samsung.browse())     # From Smartphone\n"
   ]
  },
  {
   "cell_type": "markdown",
   "id": "ac83a927-ea34-40c9-befe-1208d10d4159",
   "metadata": {},
   "source": [
    "### Multilevel Inheritance\n",
    "\n",
    "**Definition:**\n",
    "  \n",
    "Multilevel inheritance occurs when a class is derived from another derived class.\n",
    "\n",
    "In other words:\n",
    "\n",
    "- Class A → Parent (Base) Class\n",
    "\n",
    "- Class B → Child of Class A (Intermediate Class)\n",
    "\n",
    "- Class C → Child of Class B (Grandchild Class)\n",
    "\n",
    "This creates a chain of inheritance."
   ]
  },
  {
   "cell_type": "code",
   "execution_count": 6,
   "id": "ed91a5e4-25f3-4b11-b558-5febf6be1080",
   "metadata": {},
   "outputs": [
    {
     "name": "stdout",
     "output_type": "stream",
     "text": [
      "Brand: Tesla\n",
      "Model: Model S\n",
      "Battery Capacity: 100 kWh\n"
     ]
    }
   ],
   "source": [
    "# Base class\n",
    "class Vehicle:\n",
    "    def __init__(self, brand):\n",
    "        self.brand = brand\n",
    "\n",
    "    def display_brand(self):\n",
    "        return f\"Brand: {self.brand}\"\n",
    "\n",
    "# Intermediate class\n",
    "class Car(Vehicle):\n",
    "    def __init__(self, brand, model):\n",
    "        super().__init__(brand)\n",
    "        self.model = model\n",
    "\n",
    "    def display_model(self):\n",
    "        return f\"Model: {self.model}\"\n",
    "\n",
    "# Derived (grandchild) class\n",
    "class ElectricCar(Car):\n",
    "    def __init__(self, brand, model, battery_capacity):\n",
    "        super().__init__(brand, model)\n",
    "        self.battery_capacity = battery_capacity\n",
    "\n",
    "    def display_battery(self):\n",
    "        return f\"Battery Capacity: {self.battery_capacity} kWh\"\n",
    "\n",
    "# Creating an object of ElectricCar\n",
    "tesla = ElectricCar(\"Tesla\", \"Model S\", 100)\n",
    "\n",
    "# Accessing methods from all levels\n",
    "print(tesla.display_brand())     # From Vehicle\n",
    "print(tesla.display_model())     # From Car\n",
    "print(tesla.display_battery())   # From ElectricCar\n"
   ]
  },
  {
   "cell_type": "markdown",
   "id": "d6e20261-e99b-4729-9d32-33e6b550b039",
   "metadata": {},
   "source": [
    "### Hierarchical Inheritance\n",
    "**Definition:**\n",
    "  \n",
    "Hierarchical inheritance occurs when multiple child classes inherit from the same parent class.\n",
    "\n",
    "In other words:\n",
    "\n",
    "One base class → Two or more derived classes.\n",
    "\n",
    "**Key Points:**\n",
    "    \n",
    "- All child classes share the common properties and methods of the parent class.\n",
    "\n",
    "- Each child can have its own additional features.\n",
    "\n",
    "- Useful when multiple entities share common behavior but also need specialized behavior."
   ]
  },
  {
   "cell_type": "markdown",
   "id": "9bacfa47-2e7d-44aa-afe6-3ba49097d6dc",
   "metadata": {},
   "source": [
    "### Vehicle → Car & Bike"
   ]
  },
  {
   "cell_type": "code",
   "execution_count": 7,
   "id": "2c6de0e1-c0c6-44d4-b09d-153b05239521",
   "metadata": {},
   "outputs": [
    {
     "name": "stdout",
     "output_type": "stream",
     "text": [
      "Brand: Tesla\n",
      "Car Model: Model 3\n",
      "Brand: Yamaha\n",
      "Engine Capacity: 150 cc\n"
     ]
    }
   ],
   "source": [
    "# Base class\n",
    "class Vehicle:\n",
    "    def __init__(self, brand):\n",
    "        self.brand = brand\n",
    "\n",
    "    def display_brand(self):\n",
    "        return f\"Brand: {self.brand}\"\n",
    "\n",
    "# First child class\n",
    "class Car(Vehicle):\n",
    "    def __init__(self, brand, model):\n",
    "        super().__init__(brand)\n",
    "        self.model = model\n",
    "\n",
    "    def display_model(self):\n",
    "        return f\"Car Model: {self.model}\"\n",
    "\n",
    "# Second child class\n",
    "class Bike(Vehicle):\n",
    "    def __init__(self, brand, engine_cc):\n",
    "        super().__init__(brand)\n",
    "        self.engine_cc = engine_cc\n",
    "\n",
    "    def display_engine(self):\n",
    "        return f\"Engine Capacity: {self.engine_cc} cc\"\n",
    "\n",
    "# Objects of different child classes\n",
    "tesla = Car(\"Tesla\", \"Model 3\")\n",
    "yamaha = Bike(\"Yamaha\", 150)\n",
    "\n",
    "# Accessing methods\n",
    "print(tesla.display_brand())  # From Vehicle\n",
    "print(tesla.display_model())  # From Car\n",
    "\n",
    "print(yamaha.display_brand()) # From Vehicle\n",
    "print(yamaha.display_engine())# From Bike\n"
   ]
  },
  {
   "cell_type": "markdown",
   "id": "f4f4c804-948d-4acf-833c-58d190c08ea4",
   "metadata": {},
   "source": [
    "### Hybrid Inheritance\n",
    "\n",
    "**Definition:**\n",
    "  \n",
    "Hybrid inheritance is a combination of two or more types of inheritance (single, multiple, multilevel, hierarchical) in a single program.\n",
    "It is used when a complex relationship exists between classes.\n",
    "\n",
    "**Key Points:**\n",
    "    \n",
    "- It’s basically “mix and match” of inheritance types.\n",
    "\n",
    "- It often involves multiple parents and multiple levels of inheritance.\n",
    "\n",
    "- Python handles Hybrid Inheritance using MRO (Method Resolution Order) to avoid ambiguity.\n",
    "\n",
    "- Can introduce Diamond Problem (when a class is derived from multiple classes having a common ancestor)."
   ]
  },
  {
   "cell_type": "markdown",
   "id": "ccf52508-d036-4be2-a476-38a1c021b9cd",
   "metadata": {},
   "source": [
    "### Combining Multiple + Multilevel Inheritance"
   ]
  },
  {
   "cell_type": "code",
   "execution_count": 8,
   "id": "a5cd85f4-3321-43d2-948d-95a3513df2e7",
   "metadata": {},
   "outputs": [
    {
     "ename": "TypeError",
     "evalue": "Freelancer.__init__() missing 1 required positional argument: 'project'",
     "output_type": "error",
     "traceback": [
      "\u001b[1;31m---------------------------------------------------------------------------\u001b[0m",
      "\u001b[1;31mTypeError\u001b[0m                                 Traceback (most recent call last)",
      "Cell \u001b[1;32mIn[8], line 37\u001b[0m\n\u001b[0;32m     34\u001b[0m         \u001b[38;5;28;01mreturn\u001b[39;00m \u001b[38;5;124mf\u001b[39m\u001b[38;5;124m\"\u001b[39m\u001b[38;5;132;01m{\u001b[39;00m\u001b[38;5;28mself\u001b[39m\u001b[38;5;241m.\u001b[39mdisplay_name()\u001b[38;5;132;01m}\u001b[39;00m\u001b[38;5;124m, \u001b[39m\u001b[38;5;132;01m{\u001b[39;00m\u001b[38;5;28mself\u001b[39m\u001b[38;5;241m.\u001b[39mdisplay_emp()\u001b[38;5;132;01m}\u001b[39;00m\u001b[38;5;124m, \u001b[39m\u001b[38;5;132;01m{\u001b[39;00m\u001b[38;5;28mself\u001b[39m\u001b[38;5;241m.\u001b[39mdisplay_project()\u001b[38;5;132;01m}\u001b[39;00m\u001b[38;5;124m\"\u001b[39m\n\u001b[0;32m     36\u001b[0m \u001b[38;5;66;03m# Object\u001b[39;00m\n\u001b[1;32m---> 37\u001b[0m worker \u001b[38;5;241m=\u001b[39m \u001b[43mHybridWorker\u001b[49m\u001b[43m(\u001b[49m\u001b[38;5;124;43m\"\u001b[39;49m\u001b[38;5;124;43mTayyab\u001b[39;49m\u001b[38;5;124;43m\"\u001b[39;49m\u001b[43m,\u001b[49m\u001b[43m \u001b[49m\u001b[38;5;241;43m101\u001b[39;49m\u001b[43m,\u001b[49m\u001b[43m \u001b[49m\u001b[38;5;124;43m\"\u001b[39;49m\u001b[38;5;124;43mAI Chatbot\u001b[39;49m\u001b[38;5;124;43m\"\u001b[39;49m\u001b[43m)\u001b[49m\n\u001b[0;32m     38\u001b[0m \u001b[38;5;28mprint\u001b[39m(worker\u001b[38;5;241m.\u001b[39mfull_details())\n",
      "Cell \u001b[1;32mIn[8], line 30\u001b[0m, in \u001b[0;36mHybridWorker.__init__\u001b[1;34m(self, name, emp_id, project)\u001b[0m\n\u001b[0;32m     29\u001b[0m \u001b[38;5;28;01mdef\u001b[39;00m \u001b[38;5;21m__init__\u001b[39m(\u001b[38;5;28mself\u001b[39m, name, emp_id, project):\n\u001b[1;32m---> 30\u001b[0m     \u001b[43mEmployee\u001b[49m\u001b[38;5;241;43m.\u001b[39;49m\u001b[38;5;21;43m__init__\u001b[39;49m\u001b[43m(\u001b[49m\u001b[38;5;28;43mself\u001b[39;49m\u001b[43m,\u001b[49m\u001b[43m \u001b[49m\u001b[43mname\u001b[49m\u001b[43m,\u001b[49m\u001b[43m \u001b[49m\u001b[43memp_id\u001b[49m\u001b[43m)\u001b[49m\n\u001b[0;32m     31\u001b[0m     Freelancer\u001b[38;5;241m.\u001b[39m\u001b[38;5;21m__init__\u001b[39m(\u001b[38;5;28mself\u001b[39m, name, project)\n",
      "Cell \u001b[1;32mIn[8], line 12\u001b[0m, in \u001b[0;36mEmployee.__init__\u001b[1;34m(self, name, emp_id)\u001b[0m\n\u001b[0;32m     11\u001b[0m \u001b[38;5;28;01mdef\u001b[39;00m \u001b[38;5;21m__init__\u001b[39m(\u001b[38;5;28mself\u001b[39m, name, emp_id):\n\u001b[1;32m---> 12\u001b[0m     \u001b[38;5;28;43msuper\u001b[39;49m\u001b[43m(\u001b[49m\u001b[43m)\u001b[49m\u001b[38;5;241;43m.\u001b[39;49m\u001b[38;5;21;43m__init__\u001b[39;49m\u001b[43m(\u001b[49m\u001b[43mname\u001b[49m\u001b[43m)\u001b[49m\n\u001b[0;32m     13\u001b[0m     \u001b[38;5;28mself\u001b[39m\u001b[38;5;241m.\u001b[39memp_id \u001b[38;5;241m=\u001b[39m emp_id\n",
      "\u001b[1;31mTypeError\u001b[0m: Freelancer.__init__() missing 1 required positional argument: 'project'"
     ]
    }
   ],
   "source": [
    "# Base class\n",
    "class Person:\n",
    "    def __init__(self, name):\n",
    "        self.name = name\n",
    "\n",
    "    def display_name(self):\n",
    "        return f\"Name: {self.name}\"\n",
    "\n",
    "# First level child class\n",
    "class Employee(Person):\n",
    "    def __init__(self, name, emp_id):\n",
    "        super().__init__(name)\n",
    "        self.emp_id = emp_id\n",
    "\n",
    "    def display_emp(self):\n",
    "        return f\"Employee ID: {self.emp_id}\"\n",
    "\n",
    "# Another first level child class\n",
    "class Freelancer(Person):\n",
    "    def __init__(self, name, project):\n",
    "        super().__init__(name)\n",
    "        self.project = project\n",
    "\n",
    "    def display_project(self):\n",
    "        return f\"Project: {self.project}\"\n",
    "\n",
    "# Hybrid: Multiple inheritance + multilevel\n",
    "class HybridWorker(Employee, Freelancer):\n",
    "    def __init__(self, name, emp_id, project):\n",
    "        Employee.__init__(self, name, emp_id)\n",
    "        Freelancer.__init__(self, name, project)\n",
    "\n",
    "    def full_details(self):\n",
    "        return f\"{self.display_name()}, {self.display_emp()}, {self.display_project()}\"\n",
    "\n",
    "# Object\n",
    "worker = HybridWorker(\"Tayyab\", 101, \"AI Chatbot\")\n",
    "print(worker.full_details())\n"
   ]
  },
  {
   "cell_type": "code",
   "execution_count": 9,
   "id": "8dface83-21f0-4cc3-af21-13d455654fae",
   "metadata": {},
   "outputs": [
    {
     "name": "stdout",
     "output_type": "stream",
     "text": [
      "Name: Tayyab, Employee ID: 101, Project: AI Chatbot\n"
     ]
    }
   ],
   "source": [
    "# Base class\n",
    "class Person:\n",
    "    def __init__(self, name, **kwargs):\n",
    "        super().__init__(**kwargs)\n",
    "        self.name = name\n",
    "\n",
    "    def display_name(self):\n",
    "        return f\"Name: {self.name}\"\n",
    "\n",
    "# First level child class\n",
    "class Employee(Person):\n",
    "    def __init__(self, name, emp_id, **kwargs):\n",
    "        super().__init__(name=name, **kwargs)\n",
    "        self.emp_id = emp_id\n",
    "\n",
    "    def display_emp(self):\n",
    "        return f\"Employee ID: {self.emp_id}\"\n",
    "\n",
    "# Another first level child class\n",
    "class Freelancer(Person):\n",
    "    def __init__(self, name, project, **kwargs):\n",
    "        super().__init__(name=name, **kwargs)\n",
    "        self.project = project\n",
    "\n",
    "    def display_project(self):\n",
    "        return f\"Project: {self.project}\"\n",
    "\n",
    "# Hybrid: Multiple + Multilevel\n",
    "class HybridWorker(Employee, Freelancer):\n",
    "    def __init__(self, name, emp_id, project):\n",
    "        super().__init__(name=name, emp_id=emp_id, project=project)\n",
    "\n",
    "    def full_details(self):\n",
    "        return f\"{self.display_name()}, {self.display_emp()}, {self.display_project()}\"\n",
    "\n",
    "# Object\n",
    "worker = HybridWorker(\"Tayyab\", 101, \"AI Chatbot\")\n",
    "print(worker.full_details())\n"
   ]
  },
  {
   "cell_type": "code",
   "execution_count": null,
   "id": "837a7809-5185-4147-a488-4324f823e554",
   "metadata": {},
   "outputs": [],
   "source": []
  }
 ],
 "metadata": {
  "kernelspec": {
   "display_name": "Python 3 (ipykernel)",
   "language": "python",
   "name": "python3"
  },
  "language_info": {
   "codemirror_mode": {
    "name": "ipython",
    "version": 3
   },
   "file_extension": ".py",
   "mimetype": "text/x-python",
   "name": "python",
   "nbconvert_exporter": "python",
   "pygments_lexer": "ipython3",
   "version": "3.12.3"
  }
 },
 "nbformat": 4,
 "nbformat_minor": 5
}
