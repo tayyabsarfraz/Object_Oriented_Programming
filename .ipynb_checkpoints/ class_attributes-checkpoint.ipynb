{
 "cells": [
  {
   "cell_type": "markdown",
   "id": "2ad65a80-ef82-49bb-b41d-48513ae944f7",
   "metadata": {},
   "source": [
    "### Class Attributes in Object-Oriented Programming (OOP)\n",
    "\n",
    "In Python, class attributes are variables that are shared across all instances of a class. They are defined **inside the class but outside any method**, and they belong to the class itself rather than to any specific object.\n",
    "\n",
    "Unlike instance attributes (which are unique to each object), class attributes maintain the same value for all objects unless explicitly changed at the class or object level.\n",
    "\n"
   ]
  },
  {
   "cell_type": "markdown",
   "id": "02af2f34-4fa2-42f1-8c67-f5523165375a",
   "metadata": {},
   "source": [
    "class ClassName:\n",
    "    class_attribute = value  # Class attribute\n",
    "\n",
    "    def __init__(self, instance_value):\n",
    "        self.instance_attribute = instance_value  # Instance attribute\n"
   ]
  },
  {
   "cell_type": "markdown",
   "id": "ff4d662c-7fc7-45ea-9c55-d3b7d7652f4b",
   "metadata": {},
   "source": [
    "### University System – Common University Name"
   ]
  },
  {
   "cell_type": "code",
   "execution_count": 2,
   "id": "1c090a78-a86a-4fbf-a4f9-f230e2a08aab",
   "metadata": {},
   "outputs": [
    {
     "name": "stdout",
     "output_type": "stream",
     "text": [
      "Oxford University\n",
      "Oxford University\n"
     ]
    }
   ],
   "source": [
    "class Student:\n",
    "    university_name = \"Oxford University\"  # Class attribute\n",
    "\n",
    "    def __init__(self, name):\n",
    "        self.name = name\n",
    "\n",
    "s1 = Student(\"Alice\")\n",
    "s2 = Student(\"Bob\")\n",
    "print(s1.university_name)  # Oxford University\n",
    "print(s2.university_name)  # Oxford University\n"
   ]
  },
  {
   "cell_type": "markdown",
   "id": "6ed46778-98c7-479a-b3ac-c937f3dcac8d",
   "metadata": {},
   "source": [
    "### Bank System – Same Interest Rate for All Accounts"
   ]
  },
  {
   "cell_type": "code",
   "execution_count": 3,
   "id": "1c96c511-43a3-4086-949f-a5d866c8a723",
   "metadata": {},
   "outputs": [
    {
     "name": "stdout",
     "output_type": "stream",
     "text": [
      "0.05\n",
      "0.05\n"
     ]
    }
   ],
   "source": [
    "class BankAccount:\n",
    "    interest_rate = 0.05  # Class attribute\n",
    "\n",
    "    def __init__(self, account_holder):\n",
    "        self.account_holder = account_holder\n",
    "\n",
    "a1 = BankAccount(\"John\")\n",
    "a2 = BankAccount(\"Emma\")\n",
    "print(a1.interest_rate)  # 0.05\n",
    "print(a2.interest_rate)  # 0.05\n"
   ]
  },
  {
   "cell_type": "markdown",
   "id": "9763c4b9-7313-4fc9-be0f-67f0aa15fea7",
   "metadata": {},
   "source": [
    "### Hospital Management – Same Visiting Hours"
   ]
  },
  {
   "cell_type": "code",
   "execution_count": 4,
   "id": "2e6e5a8b-60d2-4898-91bf-1e475df11726",
   "metadata": {},
   "outputs": [
    {
     "name": "stdout",
     "output_type": "stream",
     "text": [
      "9 AM - 5 PM\n",
      "9 AM - 5 PM\n"
     ]
    }
   ],
   "source": [
    "class Doctor:\n",
    "    visiting_hours = \"9 AM - 5 PM\"\n",
    "\n",
    "    def __init__(self, name):\n",
    "        self.name = name\n",
    "\n",
    "d1 = Doctor(\"Dr. Smith\")\n",
    "d2 = Doctor(\"Dr. Lee\")\n",
    "print(d1.visiting_hours)\n",
    "print(d2.visiting_hours)\n"
   ]
  },
  {
   "cell_type": "markdown",
   "id": "025f2fea-8c81-4b63-a12c-21e24bc8d71b",
   "metadata": {},
   "source": [
    "### Space Missions – Same Launch Site"
   ]
  },
  {
   "cell_type": "code",
   "execution_count": 5,
   "id": "cfd09235-87af-442b-af41-4cff33ec9158",
   "metadata": {},
   "outputs": [
    {
     "name": "stdout",
     "output_type": "stream",
     "text": [
      "Cape Canaveral\n",
      "Cape Canaveral\n"
     ]
    }
   ],
   "source": [
    "class SpaceMission:\n",
    "    launch_site = \"Cape Canaveral\"\n",
    "\n",
    "    def __init__(self, mission_name):\n",
    "        self.mission_name = mission_name\n",
    "\n",
    "m1 = SpaceMission(\"Apollo 11\")\n",
    "m2 = SpaceMission(\"Mars Rover\")\n",
    "print(m1.launch_site)\n",
    "print(m2.launch_site)\n"
   ]
  },
  {
   "cell_type": "markdown",
   "id": "138987da-20c6-41a7-9c17-0f262f46abf5",
   "metadata": {},
   "source": [
    "### Airline Company – Common Airline Name"
   ]
  },
  {
   "cell_type": "code",
   "execution_count": 6,
   "id": "a528657a-eb2e-4f6f-8ef8-1e4545ee1d5b",
   "metadata": {},
   "outputs": [
    {
     "name": "stdout",
     "output_type": "stream",
     "text": [
      "Emirates\n",
      "Emirates\n"
     ]
    }
   ],
   "source": [
    "class Flight:\n",
    "    airline = \"Emirates\"\n",
    "\n",
    "    def __init__(self, flight_number):\n",
    "        self.flight_number = flight_number\n",
    "\n",
    "f1 = Flight(\"EK202\")\n",
    "f2 = Flight(\"EK303\")\n",
    "print(f1.airline)\n",
    "print(f2.airline)\n"
   ]
  },
  {
   "cell_type": "markdown",
   "id": "f5fbf485-a835-4c33-a745-7d4a52254a22",
   "metadata": {},
   "source": [
    "### Movie Theater – Same Ticket Price"
   ]
  },
  {
   "cell_type": "code",
   "execution_count": 7,
   "id": "82d4c04c-10c1-4d3a-999c-99edaf967ccd",
   "metadata": {},
   "outputs": [
    {
     "name": "stdout",
     "output_type": "stream",
     "text": [
      "12.5\n",
      "12.5\n"
     ]
    }
   ],
   "source": [
    "class MovieTicket:\n",
    "    ticket_price = 12.50\n",
    "\n",
    "    def __init__(self, seat_number):\n",
    "        self.seat_number = seat_number\n",
    "\n",
    "t1 = MovieTicket(\"A1\")\n",
    "t2 = MovieTicket(\"B2\")\n",
    "print(t1.ticket_price)\n",
    "print(t2.ticket_price)\n"
   ]
  },
  {
   "cell_type": "markdown",
   "id": "fedd88e6-6e50-4edb-8f88-e519fc8aca8a",
   "metadata": {},
   "source": [
    "### Gaming Platform – Same Server Name"
   ]
  },
  {
   "cell_type": "code",
   "execution_count": 8,
   "id": "45877eec-b64a-4430-b224-cdcd504919c1",
   "metadata": {},
   "outputs": [
    {
     "name": "stdout",
     "output_type": "stream",
     "text": [
      "Asia Server\n",
      "Asia Server\n"
     ]
    }
   ],
   "source": [
    "class GamePlayer:\n",
    "    server = \"Asia Server\"\n",
    "\n",
    "    def __init__(self, username):\n",
    "        self.username = username\n",
    "\n",
    "p1 = GamePlayer(\"Shadow\")\n",
    "p2 = GamePlayer(\"Ghost\")\n",
    "print(p1.server)\n",
    "print(p2.server)\n"
   ]
  },
  {
   "cell_type": "markdown",
   "id": "ff7cf12a-879f-4274-9251-32c02b7e8686",
   "metadata": {},
   "source": [
    "### Government IDs – Same Country Name"
   ]
  },
  {
   "cell_type": "code",
   "execution_count": 9,
   "id": "ad43809a-f0b3-495b-aeef-dacd6f9d44a6",
   "metadata": {},
   "outputs": [
    {
     "name": "stdout",
     "output_type": "stream",
     "text": [
      "Pakistan\n",
      "Pakistan\n"
     ]
    }
   ],
   "source": [
    "class Passport:\n",
    "    country = \"Pakistan\"\n",
    "\n",
    "    def __init__(self, passport_number):\n",
    "        self.passport_number = passport_number\n",
    "\n",
    "p1 = Passport(\"PK1234\")\n",
    "p2 = Passport(\"PK5678\")\n",
    "print(p1.country)\n",
    "print(p2.country)\n"
   ]
  },
  {
   "cell_type": "markdown",
   "id": "de31a6b0-6e69-44bf-8daa-440c2079e55c",
   "metadata": {},
   "source": [
    "### Car Manufacturing – Same Manufacturer"
   ]
  },
  {
   "cell_type": "code",
   "execution_count": 10,
   "id": "748004ce-b5ad-4350-9439-00025134d562",
   "metadata": {},
   "outputs": [
    {
     "name": "stdout",
     "output_type": "stream",
     "text": [
      "Tesla\n",
      "Tesla\n"
     ]
    }
   ],
   "source": [
    "class Car:\n",
    "    manufacturer = \"Tesla\"\n",
    "\n",
    "    def __init__(self, model):\n",
    "        self.model = model\n",
    "\n",
    "c1 = Car(\"Model S\")\n",
    "c2 = Car(\"Model X\")\n",
    "print(c1.manufacturer)\n",
    "print(c2.manufacturer)\n"
   ]
  },
  {
   "cell_type": "markdown",
   "id": "8ddafd4a-b7b9-4734-a9df-b40ad3fdca5d",
   "metadata": {},
   "source": [
    "### ✅ Key Points to Remember:\n",
    "\n",
    "- Class attributes are shared across all objects of a class.\n",
    "\n",
    "- They are defined once and can be accessed using either the class name or object name.\n",
    "\n",
    "- If you change the value using the class name, it updates for all objects.\n",
    "\n",
    "- If you change it using an object name, it only affects that object (it creates an instance attribute overriding the class attribute)."
   ]
  },
  {
   "cell_type": "markdown",
   "id": "0ec26fed-8fbc-4143-af24-317052063870",
   "metadata": {},
   "source": [
    "### Sports League – Same League Name"
   ]
  },
  {
   "cell_type": "code",
   "execution_count": 11,
   "id": "e07bde30-4290-4846-89b3-591d223e904e",
   "metadata": {},
   "outputs": [
    {
     "name": "stdout",
     "output_type": "stream",
     "text": [
      "Premier League\n",
      "Premier League\n"
     ]
    }
   ],
   "source": [
    "class FootballTeam:\n",
    "    league_name = \"Premier League\"\n",
    "\n",
    "    def __init__(self, team_name):\n",
    "        self.team_name = team_name\n",
    "\n",
    "t1 = FootballTeam(\"Manchester United\")\n",
    "t2 = FootballTeam(\"Chelsea\")\n",
    "print(t1.league_name)\n",
    "print(t2.league_name)\n"
   ]
  },
  {
   "cell_type": "markdown",
   "id": "9e2343f9-7e10-4bf6-898c-91326c505984",
   "metadata": {},
   "source": [
    "### ✅ Key Points to Remember:\n",
    "\n",
    "- Class attributes are shared across all objects of a class.\n",
    "\n",
    "- They are defined once and can be accessed using either the class name or object name.\n",
    "\n",
    "- If you change the value using the class name, it updates for all objects.\n",
    "\n",
    "- If you change it using an object name, it only affects that object (it creates an instance attribute overriding the class attribute).\n",
    "\n"
   ]
  },
  {
   "cell_type": "code",
   "execution_count": null,
   "id": "36f37359-734a-479a-94db-915808d0f049",
   "metadata": {},
   "outputs": [],
   "source": []
  }
 ],
 "metadata": {
  "kernelspec": {
   "display_name": "Python 3 (ipykernel)",
   "language": "python",
   "name": "python3"
  },
  "language_info": {
   "codemirror_mode": {
    "name": "ipython",
    "version": 3
   },
   "file_extension": ".py",
   "mimetype": "text/x-python",
   "name": "python",
   "nbconvert_exporter": "python",
   "pygments_lexer": "ipython3",
   "version": "3.12.3"
  }
 },
 "nbformat": 4,
 "nbformat_minor": 5
}
