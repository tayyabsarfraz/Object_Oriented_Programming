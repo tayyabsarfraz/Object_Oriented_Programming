{
 "cells": [
  {
   "cell_type": "markdown",
   "id": "ef586734-847b-4359-bb5c-9c18de3d60d3",
   "metadata": {},
   "source": [
    "### self Keyword in Python OOP\n",
    "\n",
    "In Python, self refers to the instance of the class that is currently being accessed.\n",
    "\n",
    "It is used to:\n",
    "\n",
    "- Access instance attributes and methods\n",
    "\n",
    "- Differentiate between local variables and instance variables\n",
    "\n",
    "- Pass the object itself to other methods\n",
    "\n",
    "- Maintain object state"
   ]
  },
  {
   "cell_type": "markdown",
   "id": "93851db3-51d3-42d8-8ab2-cb649cdd17c7",
   "metadata": {},
   "source": [
    "### 1️⃣ Banking System – Customer Account Management"
   ]
  },
  {
   "cell_type": "code",
   "execution_count": 1,
   "id": "79ff1411-23d2-446b-b0aa-22a01c77275e",
   "metadata": {},
   "outputs": [
    {
     "name": "stdout",
     "output_type": "stream",
     "text": [
      "Alice's new balance: $1500\n"
     ]
    }
   ],
   "source": [
    "class BankAccount:\n",
    "    def __init__(self, account_holder, balance):\n",
    "        self.account_holder = account_holder  # instance variable\n",
    "        self.balance = balance\n",
    "\n",
    "    def deposit(self, amount):\n",
    "        self.balance += amount\n",
    "        print(f\"{self.account_holder}'s new balance: ${self.balance}\")\n",
    "\n",
    "account1 = BankAccount(\"Alice\", 1000)\n",
    "account1.deposit(500)\n"
   ]
  },
  {
   "cell_type": "markdown",
   "id": "12c8cb84-a2b6-4863-a082-4c4deded28c5",
   "metadata": {},
   "source": [
    "Use of `self`: Accessing instance variables `(account_holder, balance)` for each customer separately."
   ]
  },
  {
   "cell_type": "markdown",
   "id": "7607e92a-4fb4-4a14-bedf-bfd7257235c8",
   "metadata": {},
   "source": [
    "### 2️⃣ E-Commerce – Shopping Cart"
   ]
  },
  {
   "cell_type": "code",
   "execution_count": 2,
   "id": "405723f4-6424-4b35-81f7-9ba7443f46d0",
   "metadata": {},
   "outputs": [
    {
     "name": "stdout",
     "output_type": "stream",
     "text": [
      "Cart now contains: ['Laptop']\n"
     ]
    }
   ],
   "source": [
    "class ShoppingCart:\n",
    "    def __init__(self):\n",
    "        self.items = []  # unique cart per object\n",
    "\n",
    "    def add_item(self, item):\n",
    "        self.items.append(item)\n",
    "        print(f\"Cart now contains: {self.items}\")\n",
    "\n",
    "cart1 = ShoppingCart()\n",
    "cart1.add_item(\"Laptop\")\n"
   ]
  },
  {
   "cell_type": "markdown",
   "id": "a8057aea-670c-4c2b-9b53-5b6a574af18c",
   "metadata": {},
   "source": [
    "Use of `self`: Keeps different carts for different customers."
   ]
  },
  {
   "cell_type": "markdown",
   "id": "1575578c-6c79-46f5-9094-5b80f94fbd96",
   "metadata": {},
   "source": [
    "### 3️⃣ Hospital Management – Patient Records"
   ]
  },
  {
   "cell_type": "code",
   "execution_count": 3,
   "id": "3f8c4807-d8cf-4521-9ef4-37a3a1684d0c",
   "metadata": {},
   "outputs": [
    {
     "name": "stdout",
     "output_type": "stream",
     "text": [
      "Patient: John, Disease: Flu\n"
     ]
    }
   ],
   "source": [
    "class Patient:\n",
    "    def __init__(self, name, disease):\n",
    "        self.name = name\n",
    "        self.disease = disease\n",
    "\n",
    "    def show_details(self):\n",
    "        print(f\"Patient: {self.name}, Disease: {self.disease}\")\n",
    "\n",
    "p1 = Patient(\"John\", \"Flu\")\n",
    "p1.show_details()\n"
   ]
  },
  {
   "cell_type": "markdown",
   "id": "715133b1-9733-4b3a-9657-4b1479853c05",
   "metadata": {},
   "source": [
    "Use of `self`: Refers to specific **patient’s** data."
   ]
  },
  {
   "cell_type": "markdown",
   "id": "cbc31386-81fc-43db-aa06-9bc50c24a03a",
   "metadata": {},
   "source": [
    "### 4️⃣ Online Course – Student Progress Tracking"
   ]
  },
  {
   "cell_type": "code",
   "execution_count": 4,
   "id": "5617421a-7cb2-4f36-ada3-a67897a26d77",
   "metadata": {},
   "outputs": [
    {
     "name": "stdout",
     "output_type": "stream",
     "text": [
      "Tayyab's progress: 10%\n"
     ]
    }
   ],
   "source": [
    "class Student:\n",
    "    def __init__(self, name):\n",
    "        self.name = name\n",
    "        self.progress = 0\n",
    "\n",
    "    def complete_module(self):\n",
    "        self.progress += 10\n",
    "        print(f\"{self.name}'s progress: {self.progress}%\")\n",
    "\n",
    "s1 = Student(\"Tayyab\")\n",
    "s1.complete_module()\n"
   ]
  },
  {
   "cell_type": "markdown",
   "id": "db7a6b3e-2b0a-46db-93ac-45eefe87a129",
   "metadata": {},
   "source": [
    "Use of `self`: Maintains **progress individually per student**."
   ]
  },
  {
   "cell_type": "markdown",
   "id": "7e91215c-122a-493c-8ba3-516500524ff6",
   "metadata": {},
   "source": [
    "### 5️⃣ Hotel Booking – Room Allocation"
   ]
  },
  {
   "cell_type": "code",
   "execution_count": 5,
   "id": "9fc56000-ffde-44cb-bcf2-6aa6556c4b67",
   "metadata": {},
   "outputs": [
    {
     "name": "stdout",
     "output_type": "stream",
     "text": [
      "Room 101 booked successfully!\n"
     ]
    }
   ],
   "source": [
    "class Room:\n",
    "    def __init__(self, room_number):\n",
    "        self.room_number = room_number\n",
    "        self.is_booked = False\n",
    "\n",
    "    def book_room(self):\n",
    "        self.is_booked = True\n",
    "        print(f\"Room {self.room_number} booked successfully!\")\n",
    "\n",
    "room101 = Room(101)\n",
    "room101.book_room()\n"
   ]
  },
  {
   "cell_type": "markdown",
   "id": "6dd1e74e-179c-4825-9597-e98b655e7bad",
   "metadata": {},
   "source": [
    "Use of `self`: Stores state `(is_booked)` for each room."
   ]
  },
  {
   "cell_type": "markdown",
   "id": "0dc7cf5f-7f4b-4b6d-8182-53e23826440e",
   "metadata": {},
   "source": [
    "### 6️⃣ Airline Ticketing – Passenger Details"
   ]
  },
  {
   "cell_type": "code",
   "execution_count": 6,
   "id": "c6f2e47f-4b28-4501-a356-637ba2734648",
   "metadata": {},
   "outputs": [
    {
     "name": "stdout",
     "output_type": "stream",
     "text": [
      "Sarah now has seat 14C\n"
     ]
    }
   ],
   "source": [
    "class Passenger:\n",
    "    def __init__(self, name, seat_no):\n",
    "        self.name = name\n",
    "        self.seat_no = seat_no\n",
    "\n",
    "    def change_seat(self, new_seat):\n",
    "        self.seat_no = new_seat\n",
    "        print(f\"{self.name} now has seat {self.seat_no}\")\n",
    "\n",
    "p1 = Passenger(\"Sarah\", \"12A\")\n",
    "p1.change_seat(\"14C\")\n"
   ]
  },
  {
   "cell_type": "markdown",
   "id": "367cc01e-bf10-4a35-ac30-2a370d98f1d9",
   "metadata": {},
   "source": [
    "Use of `self`: Updates **passenger-specific seat info**."
   ]
  },
  {
   "cell_type": "markdown",
   "id": "759f29b3-4fa7-4b8a-8182-fe3672fa8354",
   "metadata": {},
   "source": [
    "### 7️⃣ Library Management – Borrowed Books"
   ]
  },
  {
   "cell_type": "code",
   "execution_count": 7,
   "id": "221d5286-a791-4219-826b-889206b9201d",
   "metadata": {},
   "outputs": [
    {
     "name": "stdout",
     "output_type": "stream",
     "text": [
      "Ali borrowed: ['Python for Data Science']\n"
     ]
    }
   ],
   "source": [
    "class LibraryMember:\n",
    "    def __init__(self, name):\n",
    "        self.name = name\n",
    "        self.borrowed_books = []\n",
    "\n",
    "    def borrow_book(self, book):\n",
    "        self.borrowed_books.append(book)\n",
    "        print(f\"{self.name} borrowed: {self.borrowed_books}\")\n",
    "\n",
    "member1 = LibraryMember(\"Ali\")\n",
    "member1.borrow_book(\"Python for Data Science\")\n"
   ]
  },
  {
   "cell_type": "markdown",
   "id": "1e2a7f89-9d01-44dd-b23f-5309307b1c33",
   "metadata": {},
   "source": [
    "Use of `self`: Keeps track of borrowed books per member."
   ]
  },
  {
   "cell_type": "markdown",
   "id": "d32db9bd-8c40-4db9-bd06-a7eb642b71a5",
   "metadata": {},
   "source": [
    "### 8️⃣ Social Media – User Profile"
   ]
  },
  {
   "cell_type": "code",
   "execution_count": 8,
   "id": "f38a81ff-5226-4342-ab75-0ceacc2e6339",
   "metadata": {},
   "outputs": [
    {
     "name": "stdout",
     "output_type": "stream",
     "text": [
      "tayyab_dev posted: Learning OOP in Python!\n"
     ]
    }
   ],
   "source": [
    "class UserProfile:\n",
    "    def __init__(self, username):\n",
    "        self.username = username\n",
    "        self.posts = []\n",
    "\n",
    "    def add_post(self, post):\n",
    "        self.posts.append(post)\n",
    "        print(f\"{self.username} posted: {post}\")\n",
    "\n",
    "user1 = UserProfile(\"tayyab_dev\")\n",
    "user1.add_post(\"Learning OOP in Python!\")\n"
   ]
  },
  {
   "cell_type": "markdown",
   "id": "16039f52-40ca-48d3-a4bf-89b6c96aabda",
   "metadata": {},
   "source": [
    "Use of `self`: Connects each **user to their own posts**."
   ]
  },
  {
   "cell_type": "markdown",
   "id": "eae7e109-e7a9-49d2-bcbb-a5c5e5524e42",
   "metadata": {},
   "source": [
    "### 9️⃣ Smart Home – Device Control"
   ]
  },
  {
   "cell_type": "code",
   "execution_count": 9,
   "id": "b320b498-bd53-4f67-8c10-c7cb539d9e06",
   "metadata": {},
   "outputs": [
    {
     "name": "stdout",
     "output_type": "stream",
     "text": [
      "Living Room light is now ON\n"
     ]
    }
   ],
   "source": [
    "class SmartLight:\n",
    "    def __init__(self, location):\n",
    "        self.location = location\n",
    "        self.is_on = False\n",
    "\n",
    "    def toggle(self):\n",
    "        self.is_on = not self.is_on\n",
    "        state = \"ON\" if self.is_on else \"OFF\"\n",
    "        print(f\"{self.location} light is now {state}\")\n",
    "\n",
    "light1 = SmartLight(\"Living Room\")\n",
    "light1.toggle()\n"
   ]
  },
  {
   "cell_type": "markdown",
   "id": "c52d8e4b-6134-452e-b534-89167f267794",
   "metadata": {},
   "source": [
    "Use of `self`: Maintains device state per instance."
   ]
  },
  {
   "cell_type": "markdown",
   "id": "52e18533-ee48-4b3c-9139-9684bc099b2d",
   "metadata": {},
   "source": [
    "### 🔟 AI Chatbot – Conversation Context"
   ]
  },
  {
   "cell_type": "code",
   "execution_count": 10,
   "id": "f8154f79-2aca-4458-9b76-6370b8cd944a",
   "metadata": {},
   "outputs": [
    {
     "name": "stdout",
     "output_type": "stream",
     "text": [
      "MedAssist replied to 'What's my blood pressure reading?'\n"
     ]
    }
   ],
   "source": [
    "class Chatbot:\n",
    "    def __init__(self, bot_name):\n",
    "        self.bot_name = bot_name\n",
    "        self.conversation_history = []\n",
    "\n",
    "    def respond(self, message):\n",
    "        self.conversation_history.append(message)\n",
    "        print(f\"{self.bot_name} replied to '{message}'\")\n",
    "\n",
    "bot = Chatbot(\"MedAssist\")\n",
    "bot.respond(\"What's my blood pressure reading?\")\n"
   ]
  },
  {
   "cell_type": "markdown",
   "id": "9ce914ad-e48d-4b15-b8cb-c9938a83d346",
   "metadata": {},
   "source": [
    "Use of `self`: Keeps unique conversation history for each chatbot instance."
   ]
  },
  {
   "cell_type": "markdown",
   "id": "37a2ac54-a850-4f09-b840-e03f5b1196db",
   "metadata": {},
   "source": [
    "### ✅ Key Takeaways:\n",
    "\n",
    "- self is mandatory for instance methods to access and modify data.\n",
    "\n",
    "- It allows object-specific state management.\n",
    "\n",
    "- Without self, methods won’t know which object’s data they are working on."
   ]
  },
  {
   "cell_type": "code",
   "execution_count": null,
   "id": "4115a15c-4c6e-4095-8f2d-34ce33fbc6aa",
   "metadata": {},
   "outputs": [],
   "source": []
  }
 ],
 "metadata": {
  "kernelspec": {
   "display_name": "Python 3 (ipykernel)",
   "language": "python",
   "name": "python3"
  },
  "language_info": {
   "codemirror_mode": {
    "name": "ipython",
    "version": 3
   },
   "file_extension": ".py",
   "mimetype": "text/x-python",
   "name": "python",
   "nbconvert_exporter": "python",
   "pygments_lexer": "ipython3",
   "version": "3.12.3"
  }
 },
 "nbformat": 4,
 "nbformat_minor": 5
}
