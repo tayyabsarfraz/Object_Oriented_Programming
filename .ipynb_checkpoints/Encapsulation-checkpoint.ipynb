{
 "cells": [
  {
   "cell_type": "markdown",
   "id": "922bab28-dee3-43ee-a15c-0a4cf7a995e4",
   "metadata": {},
   "source": [
    "### Encapsulation in Object-Oriented Programming (OOP)\n",
    "\n",
    "**Definition:**\n",
    "  \n",
    "Encapsulation is the process of bundling data (attributes) and methods (functions) that operate on that data into a single unit (class) and restricting access to some of the object’s components.\n",
    "It’s like placing data inside a “capsule” and controlling who can access or modify it.\n",
    "\n",
    "In Python, we achieve encapsulation mainly by:\n",
    "\n",
    "- Public members → Accessible from anywhere.\n",
    "\n",
    "- Protected members `(prefix _)` → Meant for internal use in the class and its subclasses.\n",
    "\n",
    "- Private members `(prefix __)` → Not accessible directly outside the class.\n",
    "\n",
    "**Key Uses of Encapsulation**\n",
    "    \n",
    "- Data Protection → Prevents unwanted or accidental changes to data.\n",
    "\n",
    "- Security → Sensitive data can be hidden from unauthorized access.\n",
    "\n",
    "- Code Maintainability → Easier to manage and update.\n",
    "\n",
    "- Controlled Access → Methods act as “gatekeepers” for accessing/modifying data.\n",
    "\n",
    "\n",
    "| Type      | Notation | Accessible Outside Class?    | Purpose                |\n",
    "| --------- | -------- | ---------------------------- | ---------------------- |\n",
    "| Public    | `name`   | ✅ Yes                        | General attributes     |\n",
    "| Protected | `_name`  | ⚠ Yes (by convention, avoid) | Semi-restricted access |\n",
    "| Private   | `__name` | ❌ No (name mangling)         | Data hiding            |\n",
    "\n"
   ]
  },
  {
   "cell_type": "markdown",
   "id": "f8d99a50-6b49-4535-b05c-ce23232aff4b",
   "metadata": {},
   "source": [
    "### Bank Account Security"
   ]
  },
  {
   "cell_type": "code",
   "execution_count": 1,
   "id": "0f2c9270-666e-4f99-a43b-fe4e951498c0",
   "metadata": {},
   "outputs": [
    {
     "name": "stdout",
     "output_type": "stream",
     "text": [
      "✅ Deposited 2000. New Balance: 7000\n",
      "✅ Withdrawn 1500. Remaining Balance: 5500\n",
      "Current Balance: 5500\n"
     ]
    }
   ],
   "source": [
    "class BankAccount:\n",
    "    def __init__(self, account_holder, balance):\n",
    "        self.account_holder = account_holder   # Public\n",
    "        self.__balance = balance               # Private\n",
    "\n",
    "    def deposit(self, amount):\n",
    "        if amount > 0:\n",
    "            self.__balance += amount\n",
    "            print(f\"✅ Deposited {amount}. New Balance: {self.__balance}\")\n",
    "        else:\n",
    "            print(\"❌ Deposit amount must be positive.\")\n",
    "\n",
    "    def withdraw(self, amount):\n",
    "        if 0 < amount <= self.__balance:\n",
    "            self.__balance -= amount\n",
    "            print(f\"✅ Withdrawn {amount}. Remaining Balance: {self.__balance}\")\n",
    "        else:\n",
    "            print(\"❌ Insufficient balance or invalid amount.\")\n",
    "\n",
    "    def get_balance(self):\n",
    "        return self.__balance  # Controlled access\n",
    "\n",
    "# Usage\n",
    "account = BankAccount(\"Tayyab\", 5000)\n",
    "account.deposit(2000)\n",
    "account.withdraw(1500)\n",
    "print(\"Current Balance:\", account.get_balance())\n",
    "\n",
    "# Direct access to private variable will fail\n",
    "# print(account.__balance)  # ❌ AttributeError\n"
   ]
  },
  {
   "cell_type": "markdown",
   "id": "78ca8d06-cc6f-4b17-8593-3bad7b6f8eb5",
   "metadata": {},
   "source": [
    "### Medical Records (Privacy)"
   ]
  },
  {
   "cell_type": "code",
   "execution_count": 2,
   "id": "74b585e4-fcff-4b7f-883a-45389c8adcb7",
   "metadata": {},
   "outputs": [
    {
     "name": "stdout",
     "output_type": "stream",
     "text": [
      "Access Denied\n",
      "['Diabetes', 'Hypertension']\n"
     ]
    }
   ],
   "source": [
    "class Patient:\n",
    "    def __init__(self, name, age, medical_history):\n",
    "        self.name = name\n",
    "        self.age = age\n",
    "        self.__medical_history = medical_history  # Private\n",
    "\n",
    "    def get_medical_history(self):\n",
    "        return \"Access Denied\"  # No direct access for privacy\n",
    "\n",
    "    def allow_doctor_access(self, doctor_password):\n",
    "        if doctor_password == \"DrSecure123\":\n",
    "            return self.__medical_history\n",
    "        return \"Access Denied\"\n",
    "\n",
    "# Usage\n",
    "p1 = Patient(\"Ali\", 30, [\"Diabetes\", \"Hypertension\"])\n",
    "print(p1.get_medical_history())  # Access Denied\n",
    "print(p1.allow_doctor_access(\"DrSecure123\"))  # Access granted\n"
   ]
  },
  {
   "cell_type": "markdown",
   "id": "ad08e3ef-2e6d-4222-9a3b-210f852e585a",
   "metadata": {},
   "source": [
    "### Employee Salary Protection"
   ]
  },
  {
   "cell_type": "code",
   "execution_count": 3,
   "id": "1c1d30e6-7fc6-46be-be94-fc2c15623d1c",
   "metadata": {},
   "outputs": [
    {
     "name": "stdout",
     "output_type": "stream",
     "text": [
      "80000\n"
     ]
    }
   ],
   "source": [
    "class Employee:\n",
    "    def __init__(self, name, salary):\n",
    "        self.name = name\n",
    "        self.__salary = salary  # Private attribute\n",
    "\n",
    "    def set_salary(self, new_salary):\n",
    "        if new_salary > 0:\n",
    "            self.__salary = new_salary\n",
    "        else:\n",
    "            print(\"❌ Salary must be positive.\")\n",
    "\n",
    "    def get_salary(self):\n",
    "        return self.__salary\n",
    "\n",
    "# Usage\n",
    "emp = Employee(\"Sara\", 80000)\n",
    "print(emp.get_salary())\n",
    "emp.set_salary(90000)\n"
   ]
  },
  {
   "cell_type": "markdown",
   "id": "a7dafc19-1ac7-4e62-b08b-5a41b1219660",
   "metadata": {},
   "source": [
    "### What is the @property Decorator?\n",
    "\n",
    "In Python OOP, the `@property` decorator is used to define getter methods in a clean, readable way without explicitly calling methods like `.get_attribute()`.\n",
    "It lets you access a method like an attribute, while still allowing internal logic to run in the background.\n",
    "\n",
    "It’s often combined with setter and deleter decorators `(@<property_name>.setter and @<property_name>.deleter)` for full control.\n",
    "\n",
    "```python\n",
    "\n",
    "class ClassName:\n",
    "    def __init__(self, value):\n",
    "        self._value = value  # Private variable\n",
    "\n",
    "    @property\n",
    "    def value(self):\n",
    "        return self._value  # Getter\n",
    "\n",
    "    @value.setter\n",
    "    def value(self, new_value):\n",
    "        self._value = new_value  # Setter\n",
    "\n",
    "    @value.deleter\n",
    "    def value(self):\n",
    "        del self._value  # Deleter\n"
   ]
  },
  {
   "cell_type": "markdown",
   "id": "15828601-4758-46fd-9091-f582416b601e",
   "metadata": {},
   "source": [
    "### Bank Account Balance Control"
   ]
  },
  {
   "cell_type": "code",
   "execution_count": 4,
   "id": "d09f4c1d-1bd2-400e-ab7a-19cd7f50f8ed",
   "metadata": {},
   "outputs": [
    {
     "name": "stdout",
     "output_type": "stream",
     "text": [
      "$1,000.00\n",
      "$2,000.00\n"
     ]
    }
   ],
   "source": [
    "class BankAccount:\n",
    "    def __init__(self, balance):\n",
    "        self._balance = balance\n",
    "\n",
    "    @property\n",
    "    def balance(self):\n",
    "        return f\"${self._balance:,.2f}\"\n",
    "\n",
    "    @balance.setter\n",
    "    def balance(self, amount):\n",
    "        if amount < 0:\n",
    "            raise ValueError(\"Balance cannot be negative!\")\n",
    "        self._balance = amount\n",
    "\n",
    "\n",
    "acc = BankAccount(1000)\n",
    "print(acc.balance)  # $1,000.00\n",
    "acc.balance = 2000\n",
    "print(acc.balance)  # $2,000.00\n"
   ]
  },
  {
   "cell_type": "markdown",
   "id": "d9260435-01e3-49dc-917b-d22584915396",
   "metadata": {},
   "source": [
    "### Employee Salary with Auto-Tax Calculation"
   ]
  },
  {
   "cell_type": "code",
   "execution_count": 5,
   "id": "f3765faa-1dd5-400b-b645-4e8045aaf486",
   "metadata": {},
   "outputs": [
    {
     "name": "stdout",
     "output_type": "stream",
     "text": [
      "4500.0\n"
     ]
    }
   ],
   "source": [
    "class Employee:\n",
    "    def __init__(self, name, salary):\n",
    "        self.name = name\n",
    "        self._salary = salary\n",
    "\n",
    "    @property\n",
    "    def salary(self):\n",
    "        return self._salary * 0.9  # After 10% tax\n",
    "\n",
    "    @salary.setter\n",
    "    def salary(self, value):\n",
    "        if value < 0:\n",
    "            raise ValueError(\"Salary must be positive!\")\n",
    "        self._salary = value\n",
    "\n",
    "\n",
    "emp = Employee(\"John\", 5000)\n",
    "print(emp.salary)  # 4500.0\n"
   ]
  },
  {
   "cell_type": "markdown",
   "id": "593e1ee5-ed56-469b-a717-be1e0bde0a58",
   "metadata": {},
   "source": [
    "### Temperature Conversion (Celsius ↔ Fahrenheit)"
   ]
  },
  {
   "cell_type": "code",
   "execution_count": 6,
   "id": "1d896649-ed80-4dc1-b702-ff8a0a9c4f11",
   "metadata": {},
   "outputs": [
    {
     "name": "stdout",
     "output_type": "stream",
     "text": [
      "77.0\n"
     ]
    }
   ],
   "source": [
    "class Temperature:\n",
    "    def __init__(self, celsius):\n",
    "        self._celsius = celsius\n",
    "\n",
    "    @property\n",
    "    def celsius(self):\n",
    "        return self._celsius\n",
    "\n",
    "    @celsius.setter\n",
    "    def celsius(self, value):\n",
    "        self._celsius = value\n",
    "\n",
    "    @property\n",
    "    def fahrenheit(self):\n",
    "        return (self._celsius * 9/5) + 32\n",
    "\n",
    "\n",
    "temp = Temperature(25)\n",
    "print(temp.fahrenheit)  # 77.0\n"
   ]
  },
  {
   "cell_type": "markdown",
   "id": "9136f70a-52ed-41f7-afb1-c5e672c5d4ae",
   "metadata": {},
   "source": [
    "### Student Grade Validation"
   ]
  },
  {
   "cell_type": "code",
   "execution_count": 7,
   "id": "6b4eb39e-2ea2-48f3-8891-3778c0b8e573",
   "metadata": {},
   "outputs": [
    {
     "name": "stdout",
     "output_type": "stream",
     "text": [
      "B\n"
     ]
    }
   ],
   "source": [
    "class Student:\n",
    "    def __init__(self, grade):\n",
    "        self._grade = grade\n",
    "\n",
    "    @property\n",
    "    def grade(self):\n",
    "        return self._grade\n",
    "\n",
    "    @grade.setter\n",
    "    def grade(self, value):\n",
    "        if value not in [\"A\", \"B\", \"C\", \"D\", \"F\"]:\n",
    "            raise ValueError(\"Invalid grade!\")\n",
    "        self._grade = value\n",
    "\n",
    "\n",
    "s = Student(\"A\")\n",
    "s.grade = \"B\"\n",
    "print(s.grade)  # B\n"
   ]
  },
  {
   "cell_type": "markdown",
   "id": "e775edb8-5d74-4a7f-8b04-500946620eb2",
   "metadata": {},
   "source": [
    "### Stock Price Tracking"
   ]
  },
  {
   "cell_type": "code",
   "execution_count": 8,
   "id": "3da58744-977e-4f9a-9593-c3dd234042f2",
   "metadata": {},
   "outputs": [
    {
     "name": "stdout",
     "output_type": "stream",
     "text": [
      "$150.00\n"
     ]
    }
   ],
   "source": [
    "class Stock:\n",
    "    def __init__(self, symbol, price):\n",
    "        self.symbol = symbol\n",
    "        self._price = price\n",
    "\n",
    "    @property\n",
    "    def price(self):\n",
    "        return f\"${self._price:.2f}\"\n",
    "\n",
    "    @price.setter\n",
    "    def price(self, value):\n",
    "        if value <= 0:\n",
    "            raise ValueError(\"Price must be positive!\")\n",
    "        self._price = value\n",
    "\n",
    "\n",
    "apple = Stock(\"AAPL\", 150)\n",
    "print(apple.price)  # $150.00\n"
   ]
  },
  {
   "cell_type": "markdown",
   "id": "8b7afab0-6082-40d1-8aa2-849ba2c4ffed",
   "metadata": {},
   "source": [
    "### E-commerce Discount Calculation"
   ]
  },
  {
   "cell_type": "code",
   "execution_count": 9,
   "id": "6a76ad10-4a58-4ece-a396-c0032912ef30",
   "metadata": {},
   "outputs": [
    {
     "name": "stdout",
     "output_type": "stream",
     "text": [
      "850.0\n"
     ]
    }
   ],
   "source": [
    "class Product:\n",
    "    def __init__(self, name, price):\n",
    "        self.name = name\n",
    "        self._price = price\n",
    "\n",
    "    @property\n",
    "    def price(self):\n",
    "        return self._price\n",
    "\n",
    "    @property\n",
    "    def discounted_price(self):\n",
    "        return self._price * 0.85  # 15% discount\n",
    "\n",
    "\n",
    "item = Product(\"Laptop\", 1000)\n",
    "print(item.discounted_price)  # 850.0\n"
   ]
  },
  {
   "cell_type": "markdown",
   "id": "106bd757-ffac-4718-8dcf-03a181df0528",
   "metadata": {},
   "source": [
    "### Flight Ticket Price with Fuel Surcharge"
   ]
  },
  {
   "cell_type": "code",
   "execution_count": 10,
   "id": "736a1324-84aa-49b6-8165-a2a3ca5fba4a",
   "metadata": {},
   "outputs": [
    {
     "name": "stdout",
     "output_type": "stream",
     "text": [
      "250\n"
     ]
    }
   ],
   "source": [
    "class Flight:\n",
    "    def __init__(self, base_price):\n",
    "        self._base_price = base_price\n",
    "\n",
    "    @property\n",
    "    def total_price(self):\n",
    "        return self._base_price + 50  # Fuel surcharge\n",
    "\n",
    "\n",
    "ticket = Flight(200)\n",
    "print(ticket.total_price)  # 250\n"
   ]
  },
  {
   "cell_type": "markdown",
   "id": "e79add18-b6ae-4618-a875-52d222898877",
   "metadata": {},
   "source": [
    "### Movie Rating Validation"
   ]
  },
  {
   "cell_type": "code",
   "execution_count": 11,
   "id": "30b16e60-8bd8-4dc2-9883-d83feaa14240",
   "metadata": {},
   "outputs": [
    {
     "name": "stdout",
     "output_type": "stream",
     "text": [
      "9\n"
     ]
    }
   ],
   "source": [
    "class Movie:\n",
    "    def __init__(self, title, rating):\n",
    "        self.title = title\n",
    "        self._rating = rating\n",
    "\n",
    "    @property\n",
    "    def rating(self):\n",
    "        return self._rating\n",
    "\n",
    "    @rating.setter\n",
    "    def rating(self, value):\n",
    "        if not (0 <= value <= 10):\n",
    "            raise ValueError(\"Rating must be between 0 and 10!\")\n",
    "        self._rating = value\n",
    "\n",
    "\n",
    "film = Movie(\"Inception\", 9)\n",
    "print(film.rating)  # 9\n"
   ]
  },
  {
   "cell_type": "markdown",
   "id": "ace2d975-59cd-4de1-9e65-2bf854ddf2ed",
   "metadata": {},
   "source": [
    "### Car Speed Limit Enforcement"
   ]
  },
  {
   "cell_type": "code",
   "execution_count": 12,
   "id": "3b5e74be-581e-4d45-90c5-6e54d9ca6d00",
   "metadata": {},
   "outputs": [
    {
     "name": "stdout",
     "output_type": "stream",
     "text": [
      "180\n"
     ]
    }
   ],
   "source": [
    "class Car:\n",
    "    def __init__(self, speed):\n",
    "        self._speed = speed\n",
    "\n",
    "    @property\n",
    "    def speed(self):\n",
    "        return self._speed\n",
    "\n",
    "    @speed.setter\n",
    "    def speed(self, value):\n",
    "        if value > 200:\n",
    "            raise ValueError(\"Speed cannot exceed 200 km/h!\")\n",
    "        self._speed = value\n",
    "\n",
    "\n",
    "car = Car(100)\n",
    "car.speed = 180\n",
    "print(car.speed)  # 180\n"
   ]
  },
  {
   "cell_type": "markdown",
   "id": "11e71e08-fc78-485a-bb96-97a247487ea1",
   "metadata": {},
   "source": [
    "### Password Strength Validation"
   ]
  },
  {
   "cell_type": "code",
   "execution_count": 13,
   "id": "40029ac1-396c-4ec8-a470-5e5793a156e3",
   "metadata": {},
   "outputs": [
    {
     "name": "stdout",
     "output_type": "stream",
     "text": [
      "**********\n"
     ]
    }
   ],
   "source": [
    "class User:\n",
    "    def __init__(self, username, password):\n",
    "        self.username = username\n",
    "        self._password = password\n",
    "\n",
    "    @property\n",
    "    def password(self):\n",
    "        return \"*\" * len(self._password)  # Masked\n",
    "\n",
    "    @password.setter\n",
    "    def password(self, value):\n",
    "        if len(value) < 8:\n",
    "            raise ValueError(\"Password must be at least 8 characters!\")\n",
    "        self._password = value\n",
    "\n",
    "\n",
    "u = User(\"admin\", \"secretpass\")\n",
    "print(u.password)  # **********\n"
   ]
  },
  {
   "cell_type": "code",
   "execution_count": null,
   "id": "40a98c5c-7606-4e93-858b-3c2dba52934a",
   "metadata": {},
   "outputs": [],
   "source": []
  }
 ],
 "metadata": {
  "kernelspec": {
   "display_name": "Python 3 (ipykernel)",
   "language": "python",
   "name": "python3"
  },
  "language_info": {
   "codemirror_mode": {
    "name": "ipython",
    "version": 3
   },
   "file_extension": ".py",
   "mimetype": "text/x-python",
   "name": "python",
   "nbconvert_exporter": "python",
   "pygments_lexer": "ipython3",
   "version": "3.12.3"
  }
 },
 "nbformat": 4,
 "nbformat_minor": 5
}
